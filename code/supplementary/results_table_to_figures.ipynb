{
 "cells": [
  {
   "cell_type": "code",
   "execution_count": 1,
   "metadata": {},
   "outputs": [],
   "source": [
    "import math\n",
    "import matplotlib.pyplot as plt\n",
    "import numpy as np\n",
    "import pandas as pd\n",
    "%matplotlib inline\n",
    "plt.rcParams[\"figure.figsize\"] = (9,6)\n",
    "#%config InlineBackend.figure_format = 'retina' # Uncomment if using a retina display\n",
    "plt.rc('pdf', fonttype=42)\n",
    "plt.rcParams['ps.useafm'] = True\n",
    "plt.rcParams['pdf.use14corefonts'] = True\n",
    "#plt.rcParams['text.usetex'] = True # Uncomment if LaTeX installed to render plots in LaTeX\n",
    "plt.rcParams['font.serif'] = 'Times'\n",
    "plt.rcParams['font.family'] = 'serif'"
   ]
  },
  {
   "cell_type": "code",
   "execution_count": 2,
   "metadata": {},
   "outputs": [],
   "source": [
    "df = pd.read_csv('../output/model_params_and_results.csv')"
   ]
  },
  {
   "cell_type": "code",
   "execution_count": 3,
   "metadata": {},
   "outputs": [],
   "source": [
    "df['score'] = abs(df['mean_test_score'])\n",
    "df['num_hidden_layers'] = df['param_num_hidden_layers']\n",
    "df['hidden_layer_size'] = df['param_hidden_layer_size']\n",
    "df['activation_function'] = df['param_activation_function']"
   ]
  },
  {
   "cell_type": "code",
   "execution_count": 4,
   "metadata": {},
   "outputs": [
    {
     "data": {
      "text/html": [
       "<div>\n",
       "<style scoped>\n",
       "    .dataframe tbody tr th:only-of-type {\n",
       "        vertical-align: middle;\n",
       "    }\n",
       "\n",
       "    .dataframe tbody tr th {\n",
       "        vertical-align: top;\n",
       "    }\n",
       "\n",
       "    .dataframe thead th {\n",
       "        text-align: right;\n",
       "    }\n",
       "</style>\n",
       "<table border=\"1\" class=\"dataframe\">\n",
       "  <thead>\n",
       "    <tr style=\"text-align: right;\">\n",
       "      <th></th>\n",
       "      <th>param_num_hidden_layers</th>\n",
       "      <th>param_hidden_layer_size</th>\n",
       "      <th>param_activation_function</th>\n",
       "      <th>mean_fit_time</th>\n",
       "      <th>std_fit_time</th>\n",
       "      <th>mean_score_time</th>\n",
       "      <th>std_score_time</th>\n",
       "      <th>split0_test_score</th>\n",
       "      <th>split1_test_score</th>\n",
       "      <th>split2_test_score</th>\n",
       "      <th>...</th>\n",
       "      <th>split1_train_score</th>\n",
       "      <th>split2_train_score</th>\n",
       "      <th>split3_train_score</th>\n",
       "      <th>split4_train_score</th>\n",
       "      <th>mean_train_score</th>\n",
       "      <th>std_train_score</th>\n",
       "      <th>score</th>\n",
       "      <th>num_hidden_layers</th>\n",
       "      <th>hidden_layer_size</th>\n",
       "      <th>activation_function</th>\n",
       "    </tr>\n",
       "  </thead>\n",
       "  <tbody>\n",
       "    <tr>\n",
       "      <th>0</th>\n",
       "      <td>0</td>\n",
       "      <td>0</td>\n",
       "      <td>linear</td>\n",
       "      <td>18.877625</td>\n",
       "      <td>1.608140</td>\n",
       "      <td>0.138699</td>\n",
       "      <td>0.025194</td>\n",
       "      <td>-2.373923</td>\n",
       "      <td>-2.081822</td>\n",
       "      <td>-1.334480</td>\n",
       "      <td>...</td>\n",
       "      <td>-1.837597</td>\n",
       "      <td>-1.176133</td>\n",
       "      <td>-3.024336</td>\n",
       "      <td>-1.095315</td>\n",
       "      <td>-1.887882</td>\n",
       "      <td>0.721616</td>\n",
       "      <td>2.044422</td>\n",
       "      <td>0</td>\n",
       "      <td>0</td>\n",
       "      <td>linear</td>\n",
       "    </tr>\n",
       "    <tr>\n",
       "      <th>1</th>\n",
       "      <td>0</td>\n",
       "      <td>0</td>\n",
       "      <td>relu</td>\n",
       "      <td>13.943288</td>\n",
       "      <td>0.287599</td>\n",
       "      <td>0.295754</td>\n",
       "      <td>0.018892</td>\n",
       "      <td>-7.876654</td>\n",
       "      <td>-8.002765</td>\n",
       "      <td>-7.793879</td>\n",
       "      <td>...</td>\n",
       "      <td>-7.970431</td>\n",
       "      <td>-8.022614</td>\n",
       "      <td>-7.943718</td>\n",
       "      <td>-7.945698</td>\n",
       "      <td>-7.976898</td>\n",
       "      <td>0.031105</td>\n",
       "      <td>7.976894</td>\n",
       "      <td>0</td>\n",
       "      <td>0</td>\n",
       "      <td>relu</td>\n",
       "    </tr>\n",
       "    <tr>\n",
       "      <th>2</th>\n",
       "      <td>0</td>\n",
       "      <td>0</td>\n",
       "      <td>sigmoid</td>\n",
       "      <td>12.494315</td>\n",
       "      <td>0.124183</td>\n",
       "      <td>0.203067</td>\n",
       "      <td>0.020734</td>\n",
       "      <td>-3.334007</td>\n",
       "      <td>-3.429019</td>\n",
       "      <td>-3.289454</td>\n",
       "      <td>...</td>\n",
       "      <td>-3.403003</td>\n",
       "      <td>-3.437868</td>\n",
       "      <td>-3.386606</td>\n",
       "      <td>-3.386745</td>\n",
       "      <td>-3.408206</td>\n",
       "      <td>0.020881</td>\n",
       "      <td>3.408203</td>\n",
       "      <td>0</td>\n",
       "      <td>0</td>\n",
       "      <td>sigmoid</td>\n",
       "    </tr>\n",
       "    <tr>\n",
       "      <th>3</th>\n",
       "      <td>0</td>\n",
       "      <td>0</td>\n",
       "      <td>tanh</td>\n",
       "      <td>12.805012</td>\n",
       "      <td>0.312548</td>\n",
       "      <td>0.343594</td>\n",
       "      <td>0.019401</td>\n",
       "      <td>-3.334007</td>\n",
       "      <td>-3.429019</td>\n",
       "      <td>-3.289454</td>\n",
       "      <td>...</td>\n",
       "      <td>-3.403003</td>\n",
       "      <td>-3.437868</td>\n",
       "      <td>-3.386606</td>\n",
       "      <td>-3.386745</td>\n",
       "      <td>-3.408206</td>\n",
       "      <td>0.020881</td>\n",
       "      <td>3.408203</td>\n",
       "      <td>0</td>\n",
       "      <td>0</td>\n",
       "      <td>tanh</td>\n",
       "    </tr>\n",
       "    <tr>\n",
       "      <th>4</th>\n",
       "      <td>1</td>\n",
       "      <td>64</td>\n",
       "      <td>linear</td>\n",
       "      <td>245.377212</td>\n",
       "      <td>47.310742</td>\n",
       "      <td>0.487355</td>\n",
       "      <td>0.024138</td>\n",
       "      <td>-0.179391</td>\n",
       "      <td>-0.311087</td>\n",
       "      <td>-0.196488</td>\n",
       "      <td>...</td>\n",
       "      <td>-0.124082</td>\n",
       "      <td>-0.039679</td>\n",
       "      <td>-0.014129</td>\n",
       "      <td>-0.048821</td>\n",
       "      <td>-0.050033</td>\n",
       "      <td>0.038955</td>\n",
       "      <td>0.222170</td>\n",
       "      <td>1</td>\n",
       "      <td>64</td>\n",
       "      <td>linear</td>\n",
       "    </tr>\n",
       "  </tbody>\n",
       "</table>\n",
       "<p>5 rows × 26 columns</p>\n",
       "</div>"
      ],
      "text/plain": [
       "   param_num_hidden_layers  param_hidden_layer_size param_activation_function  \\\n",
       "0                        0                        0                    linear   \n",
       "1                        0                        0                      relu   \n",
       "2                        0                        0                   sigmoid   \n",
       "3                        0                        0                      tanh   \n",
       "4                        1                       64                    linear   \n",
       "\n",
       "   mean_fit_time  std_fit_time  mean_score_time  std_score_time  \\\n",
       "0      18.877625      1.608140         0.138699        0.025194   \n",
       "1      13.943288      0.287599         0.295754        0.018892   \n",
       "2      12.494315      0.124183         0.203067        0.020734   \n",
       "3      12.805012      0.312548         0.343594        0.019401   \n",
       "4     245.377212     47.310742         0.487355        0.024138   \n",
       "\n",
       "   split0_test_score  split1_test_score  split2_test_score  \\\n",
       "0          -2.373923          -2.081822          -1.334480   \n",
       "1          -7.876654          -8.002765          -7.793879   \n",
       "2          -3.334007          -3.429019          -3.289454   \n",
       "3          -3.334007          -3.429019          -3.289454   \n",
       "4          -0.179391          -0.311087          -0.196488   \n",
       "\n",
       "          ...           split1_train_score  split2_train_score  \\\n",
       "0         ...                    -1.837597           -1.176133   \n",
       "1         ...                    -7.970431           -8.022614   \n",
       "2         ...                    -3.403003           -3.437868   \n",
       "3         ...                    -3.403003           -3.437868   \n",
       "4         ...                    -0.124082           -0.039679   \n",
       "\n",
       "   split3_train_score  split4_train_score  mean_train_score  std_train_score  \\\n",
       "0           -3.024336           -1.095315         -1.887882         0.721616   \n",
       "1           -7.943718           -7.945698         -7.976898         0.031105   \n",
       "2           -3.386606           -3.386745         -3.408206         0.020881   \n",
       "3           -3.386606           -3.386745         -3.408206         0.020881   \n",
       "4           -0.014129           -0.048821         -0.050033         0.038955   \n",
       "\n",
       "      score  num_hidden_layers  hidden_layer_size  activation_function  \n",
       "0  2.044422                  0                  0               linear  \n",
       "1  7.976894                  0                  0                 relu  \n",
       "2  3.408203                  0                  0              sigmoid  \n",
       "3  3.408203                  0                  0                 tanh  \n",
       "4  0.222170                  1                 64               linear  \n",
       "\n",
       "[5 rows x 26 columns]"
      ]
     },
     "execution_count": 4,
     "metadata": {},
     "output_type": "execute_result"
    }
   ],
   "source": [
    "df.head()"
   ]
  },
  {
   "cell_type": "markdown",
   "metadata": {},
   "source": [
    "# Plotting the results in a more interpretable fashion"
   ]
  },
  {
   "cell_type": "markdown",
   "metadata": {},
   "source": [
    "# Number of hidden layers"
   ]
  },
  {
   "cell_type": "code",
   "execution_count": 5,
   "metadata": {},
   "outputs": [
    {
     "name": "stderr",
     "output_type": "stream",
     "text": [
      "/opt/anaconda/anaconda3/lib/python3.6/site-packages/matplotlib/font_manager.py:1241: UserWarning: findfont: Font family ['serif'] not found. Falling back to DejaVu Sans.\n",
      "  (prop.get_family(), self.defaultFamily[fontext]))\n"
     ]
    },
    {
     "data": {
      "image/png": "[encoded data removed]",
      "text/plain": [
       "<Figure size 432x288 with 1 Axes>"
      ]
     },
     "metadata": {
      "needs_background": "light"
     },
     "output_type": "display_data"
    }
   ],
   "source": [
    "x = [0, 1, 2, 3]\n",
    "y = [df.query('num_hidden_layers == 0')['score'].mean(), \n",
    "    df.query('num_hidden_layers == 1')['score'].mean(),\n",
    "                      df.query('num_hidden_layers == 2')['score'].mean(),\n",
    "                      df.query('num_hidden_layers == 3')['score'].mean()]\n",
    "e = [df.query('num_hidden_layers == 0')['score'].sem(),\n",
    "     df.query('num_hidden_layers == 1')['score'].mean(),\n",
    "                      df.query('num_hidden_layers == 2')['score'].sem(),\n",
    "                      df.query('num_hidden_layers == 3')['score'].sem()]\n",
    "plt.scatter(df['num_hidden_layers'], df['score'], alpha=0.4)\n",
    "plt.xticks([0,1,2,3])\n",
    "plt.xlabel(\"Number of hidden layers\")\n",
    "plt.ylabel(\"MSE\")\n",
    "plt.title('MSE by number of hidden layers')\n",
    "plt.errorbar(x, y, yerr=e, fmt='o', color='black')\n",
    "plt.show()"
   ]
  },
  {
   "cell_type": "markdown",
   "metadata": {},
   "source": [
    "Some of these results are skewed due to outlier values with high MSE scores. Removing all values with MSE > 1 for a clearer picture of the results."
   ]
  },
  {
   "cell_type": "code",
   "execution_count": 6,
   "metadata": {},
   "outputs": [],
   "source": [
    "df_ = df[df['score'] <= 1.0]"
   ]
  },
  {
   "cell_type": "code",
   "execution_count": 7,
   "metadata": {},
   "outputs": [
    {
     "data": {
      "image/png": "[encoded data removed]",
      "text/plain": [
       "<Figure size 432x288 with 1 Axes>"
      ]
     },
     "metadata": {
      "needs_background": "light"
     },
     "output_type": "display_data"
    }
   ],
   "source": [
    "x = [1, 2, 3]\n",
    "y = [df_.query('num_hidden_layers == 1')['score'].mean(),\n",
    "                      df_.query('num_hidden_layers == 2')['score'].mean(),\n",
    "                      df_.query('num_hidden_layers == 3')['score'].mean()]\n",
    "e = [df_.query('num_hidden_layers == 1')['score'].sem(),\n",
    "                      df_.query('num_hidden_layers == 2')['score'].sem(),\n",
    "                      df_.query('num_hidden_layers == 3')['score'].sem()]\n",
    "plt.scatter(df_['num_hidden_layers'], df_['score'], alpha=0.4)\n",
    "plt.xticks([1,2,3])\n",
    "plt.xlabel(\"Number of hidden layers\")\n",
    "plt.ylabel(\"MSE\")\n",
    "plt.title('MSE by number of hidden layers')\n",
    "plt.errorbar(x, y, yerr=e, fmt='o', color='black')\n",
    "plt.show()"
   ]
  },
  {
   "cell_type": "markdown",
   "metadata": {},
   "source": [
    "# Hidden layer size"
   ]
  },
  {
   "cell_type": "markdown",
   "metadata": {},
   "source": [
    "Without removing MSE > 1"
   ]
  },
  {
   "cell_type": "code",
   "execution_count": 8,
   "metadata": {},
   "outputs": [],
   "source": [
    "hidden_layer_size_map = {0:0, 64:1, 128: 2, 256: 3}\n",
    "df['hidden_layer_size_numeric'] = [hidden_layer_size_map[x] for x in list(df['hidden_layer_size'])]"
   ]
  },
  {
   "cell_type": "code",
   "execution_count": 9,
   "metadata": {},
   "outputs": [
    {
     "data": {
      "image/png": "[encoded data removed]",
      "text/plain": [
       "<Figure size 432x288 with 1 Axes>"
      ]
     },
     "metadata": {
      "needs_background": "light"
     },
     "output_type": "display_data"
    }
   ],
   "source": [
    "#fig, ax = plt.subplots()\n",
    "# zero is again omitted\n",
    "x = [0, 1, 2, 3]\n",
    "y = [df.query('hidden_layer_size == 0')['score'].mean(),\n",
    "     df.query('hidden_layer_size == 64')['score'].mean(),\n",
    "            df.query('hidden_layer_size == 128')['score'].mean(),\n",
    "            df.query('hidden_layer_size == 256')['score'].mean()]\n",
    "e = [df.query('hidden_layer_size == 0')['score'].sem(),\n",
    "    df.query('hidden_layer_size == 64')['score'].sem(),\n",
    "            df.query('hidden_layer_size == 128')['score'].sem(),\n",
    "            df.query('hidden_layer_size == 256')['score'].sem()]\n",
    "plt.scatter(df['hidden_layer_size_numeric'], df['score'], alpha=0.5)\n",
    "plt.xticks( range(4), ('0','64','128', '256'))\n",
    "plt.xlabel(\"Number of nodes in hidden layers\")\n",
    "plt.ylabel(\"MSE\")\n",
    "plt.title(\"MSE by number of hidden layer size\")\n",
    "plt.errorbar(x, y, yerr=e, fmt='o', color='black')\n",
    "plt.show()"
   ]
  },
  {
   "cell_type": "code",
   "execution_count": 10,
   "metadata": {},
   "outputs": [
    {
     "name": "stderr",
     "output_type": "stream",
     "text": [
      "/opt/anaconda/anaconda3/lib/python3.6/site-packages/ipykernel_launcher.py:2: SettingWithCopyWarning: \n",
      "A value is trying to be set on a copy of a slice from a DataFrame.\n",
      "Try using .loc[row_indexer,col_indexer] = value instead\n",
      "\n",
      "See the caveats in the documentation: http://pandas.pydata.org/pandas-docs/stable/indexing.html#indexing-view-versus-copy\n",
      "  \n"
     ]
    }
   ],
   "source": [
    "hidden_layer_size_map = {64:0, 128: 1, 256: 2}\n",
    "df_['hidden_layer_size_numeric'] = [hidden_layer_size_map[x] for x in list(df_['hidden_layer_size'])]"
   ]
  },
  {
   "cell_type": "code",
   "execution_count": 11,
   "metadata": {},
   "outputs": [
    {
     "data": {
      "image/png": "[encoded data removed]",
      "text/plain": [
       "<Figure size 432x288 with 1 Axes>"
      ]
     },
     "metadata": {
      "needs_background": "light"
     },
     "output_type": "display_data"
    }
   ],
   "source": [
    "#fig, ax = plt.subplots()\n",
    "# zero is again omitted\n",
    "x = [0, 1, 2]\n",
    "y = [df_.query('hidden_layer_size == 64')['score'].mean(),\n",
    "            df_.query('hidden_layer_size == 128')['score'].mean(),\n",
    "            df_.query('hidden_layer_size == 256')['score'].mean()]\n",
    "e = [df_.query('hidden_layer_size == 64')['score'].sem(),\n",
    "            df_.query('hidden_layer_size == 128')['score'].sem(),\n",
    "            df_.query('hidden_layer_size == 256')['score'].sem()]\n",
    "plt.scatter(df_['hidden_layer_size_numeric'], df_['score'], alpha=0.5)\n",
    "plt.xticks( range(3), ('64','128', '256'))\n",
    "plt.xlabel(\"Number of nodes in hidden layers\")\n",
    "plt.ylabel(\"MSE\")\n",
    "plt.title(\"MSE by number of hidden layer size\")\n",
    "plt.errorbar(x, y, yerr=e, fmt='o', color='black')\n",
    "plt.show()"
   ]
  },
  {
   "cell_type": "markdown",
   "metadata": {},
   "source": [
    "# Activation function"
   ]
  },
  {
   "cell_type": "code",
   "execution_count": 12,
   "metadata": {},
   "outputs": [
    {
     "name": "stderr",
     "output_type": "stream",
     "text": [
      "/opt/anaconda/anaconda3/lib/python3.6/site-packages/ipykernel_launcher.py:3: SettingWithCopyWarning: \n",
      "A value is trying to be set on a copy of a slice from a DataFrame.\n",
      "Try using .loc[row_indexer,col_indexer] = value instead\n",
      "\n",
      "See the caveats in the documentation: http://pandas.pydata.org/pandas-docs/stable/indexing.html#indexing-view-versus-copy\n",
      "  This is separate from the ipykernel package so we can avoid doing imports until\n"
     ]
    }
   ],
   "source": [
    "activation_function_map = {'linear':0, 'sigmoid': 1, 'tanh': 2, 'relu': 3}\n",
    "df['activation_function_numeric'] = [activation_function_map[x] for x in list(df['activation_function'])]\n",
    "df_['activation_function_numeric'] = [activation_function_map[x] for x in list(df_['activation_function'])]"
   ]
  },
  {
   "cell_type": "code",
   "execution_count": 13,
   "metadata": {},
   "outputs": [
    {
     "data": {
      "image/png": "[encoded data removed]",
      "text/plain": [
       "<Figure size 432x288 with 1 Axes>"
      ]
     },
     "metadata": {
      "needs_background": "light"
     },
     "output_type": "display_data"
    }
   ],
   "source": [
    "x = [0, 1, 2, 3]\n",
    "y = [df.query('activation_function == \"linear\"')['score'].mean(),\n",
    "            df.query('activation_function == \"sigmoid\"')['score'].mean(),\n",
    "            df.query('activation_function == \"tanh\"')['score'].mean(),\n",
    "            df.query('activation_function == \"relu\"')['score'].mean()]\n",
    "e = [df.query('activation_function == \"linear\"')['score'].sem(),\n",
    "            df.query('activation_function == \"sigmoid\"')['score'].sem(),\n",
    "            df.query('activation_function == \"tanh\"')['score'].sem(),\n",
    "            df.query('activation_function == \"relu\"')['score'].sem()]\n",
    "\n",
    "plt.scatter(df['activation_function_numeric'], df['score'], alpha=0.5)\n",
    "plt.scatter(pd.DataFrame([0,1,2,3]), \n",
    "            [df.query('activation_function == \"linear\"')['score'].mean(),\n",
    "            df.query('activation_function == \"sigmoid\"')['score'].mean(),\n",
    "            df.query('activation_function == \"tanh\"')['score'].mean(),\n",
    "            df.query('activation_function == \"relu\"')['score'].mean()])\n",
    "plt.xticks( range(4), ('Linear','Sigmoid', 'Tanh', 'ReLU',''))\n",
    "plt.xlabel(\"Number of nodes in hidden layers\")\n",
    "plt.xlabel(\"Activation function\")\n",
    "plt.ylabel(\"MSE\")\n",
    "plt.title(\"MSE by activation function\")\n",
    "plt.errorbar(x, y, yerr=e, fmt='o', color='black')\n",
    "plt.show()"
   ]
  },
  {
   "cell_type": "code",
   "execution_count": 14,
   "metadata": {},
   "outputs": [
    {
     "data": {
      "image/png": "[encoded data removed]",
      "text/plain": [
       "<Figure size 432x288 with 1 Axes>"
      ]
     },
     "metadata": {
      "needs_background": "light"
     },
     "output_type": "display_data"
    }
   ],
   "source": [
    "#fig, ax = plt.subplots()\n",
    "# zero is again omitted\n",
    "#fig, ax = plt.subplots()\n",
    "# zero is again omitted\n",
    "x = [0, 1, 2, 3]\n",
    "y = [df_.query('activation_function == \"linear\"')['score'].mean(),\n",
    "            df_.query('activation_function == \"sigmoid\"')['score'].mean(),\n",
    "            df_.query('activation_function == \"tanh\"')['score'].mean(),\n",
    "            df_.query('activation_function == \"relu\"')['score'].mean()]\n",
    "e = [df_.query('activation_function == \"linear\"')['score'].sem(),\n",
    "            df_.query('activation_function == \"sigmoid\"')['score'].sem(),\n",
    "            df_.query('activation_function == \"tanh\"')['score'].sem(),\n",
    "            df_.query('activation_function == \"relu\"')['score'].sem()]\n",
    "\n",
    "plt.scatter(df_['activation_function_numeric'], df_['score'], alpha=0.5)\n",
    "plt.scatter(pd.DataFrame([0,1,2,3]), \n",
    "            [df_.query('activation_function == \"linear\"')['score'].mean(),\n",
    "            df_.query('activation_function == \"sigmoid\"')['score'].mean(),\n",
    "            df_.query('activation_function == \"tanh\"')['score'].mean(),\n",
    "            df_.query('activation_function == \"relu\"')['score'].mean()])\n",
    "plt.xticks( range(4), ('Linear','Sigmoid', 'Tanh', 'ReLU',''))\n",
    "plt.xlabel(\"Number of nodes in hidden layers\")\n",
    "plt.xlabel(\"Activation function\")\n",
    "plt.ylabel(\"MSE\")\n",
    "plt.title(\"MSE by activation function\")\n",
    "plt.errorbar(x, y, yerr=e, fmt='o', color='black')\n",
    "plt.show()"
   ]
  },
  {
   "cell_type": "markdown",
   "metadata": {},
   "source": [
    "Overall we see much narrower error bars for the sigmoid and tanh activations, suggesting that they tend to perform much more consistently. "
   ]
  }
 ],
 "metadata": {
  "kernelspec": {
   "display_name": "Python 3",
   "language": "python",
   "name": "python3"
  },
  "language_info": {
   "codemirror_mode": {
    "name": "ipython",
    "version": 3
   },
   "file_extension": ".py",
   "mimetype": "text/x-python",
   "name": "python",
   "nbconvert_exporter": "python",
   "pygments_lexer": "ipython3",
   "version": "3.6.6"
  }
 },
 "nbformat": 4,
 "nbformat_minor": 2
}
