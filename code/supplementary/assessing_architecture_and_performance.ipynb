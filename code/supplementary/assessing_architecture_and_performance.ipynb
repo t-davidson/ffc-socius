{
 "cells": [
  {
   "cell_type": "code",
   "execution_count": 7,
   "metadata": {},
   "outputs": [],
   "source": [
    "import pandas as pd\n",
    "import statsmodels.formula.api as smf\n",
    "from statsmodels.iolib.summary2 import summary_col\n",
    "import matplotlib.pyplot as plt\n",
    "%matplotlib inline\n",
    "#%config InlineBackend.figure_format = 'retina' # Uncomment if using a retina display\n",
    "plt.rc('pdf', fonttype=42)\n",
    "plt.rcParams['ps.useafm'] = True\n",
    "plt.rcParams['pdf.use14corefonts'] = True\n",
    "#plt.rcParams['text.usetex'] = True # Uncomment if LaTeX installed to render plots in LaTeX\n",
    "plt.rcParams['font.serif'] = 'Times'\n",
    "plt.rcParams['font.family'] = 'serif'"
   ]
  },
  {
   "cell_type": "code",
   "execution_count": 8,
   "metadata": {},
   "outputs": [],
   "source": [
    "df = pd.read_csv('../output/model_params_and_results.csv')"
   ]
  },
  {
   "cell_type": "code",
   "execution_count": 11,
   "metadata": {},
   "outputs": [
    {
     "data": {
      "text/html": [
       "<div>\n",
       "<style scoped>\n",
       "    .dataframe tbody tr th:only-of-type {\n",
       "        vertical-align: middle;\n",
       "    }\n",
       "\n",
       "    .dataframe tbody tr th {\n",
       "        vertical-align: top;\n",
       "    }\n",
       "\n",
       "    .dataframe thead th {\n",
       "        text-align: right;\n",
       "    }\n",
       "</style>\n",
       "<table border=\"1\" class=\"dataframe\">\n",
       "  <thead>\n",
       "    <tr style=\"text-align: right;\">\n",
       "      <th></th>\n",
       "      <th>param_num_hidden_layers</th>\n",
       "      <th>param_hidden_layer_size</th>\n",
       "      <th>param_activation_function</th>\n",
       "      <th>mean_fit_time</th>\n",
       "      <th>std_fit_time</th>\n",
       "      <th>mean_score_time</th>\n",
       "      <th>std_score_time</th>\n",
       "      <th>split0_test_score</th>\n",
       "      <th>split1_test_score</th>\n",
       "      <th>split2_test_score</th>\n",
       "      <th>...</th>\n",
       "      <th>mean_test_score</th>\n",
       "      <th>std_test_score</th>\n",
       "      <th>rank_test_score</th>\n",
       "      <th>split0_train_score</th>\n",
       "      <th>split1_train_score</th>\n",
       "      <th>split2_train_score</th>\n",
       "      <th>split3_train_score</th>\n",
       "      <th>split4_train_score</th>\n",
       "      <th>mean_train_score</th>\n",
       "      <th>std_train_score</th>\n",
       "    </tr>\n",
       "  </thead>\n",
       "  <tbody>\n",
       "    <tr>\n",
       "      <th>0</th>\n",
       "      <td>0</td>\n",
       "      <td>0</td>\n",
       "      <td>linear</td>\n",
       "      <td>18.877625</td>\n",
       "      <td>1.608140</td>\n",
       "      <td>0.138699</td>\n",
       "      <td>0.025194</td>\n",
       "      <td>-2.373923</td>\n",
       "      <td>-2.081822</td>\n",
       "      <td>-1.334480</td>\n",
       "      <td>...</td>\n",
       "      <td>-2.044422</td>\n",
       "      <td>0.784499</td>\n",
       "      <td>37</td>\n",
       "      <td>-2.306027</td>\n",
       "      <td>-1.837597</td>\n",
       "      <td>-1.176133</td>\n",
       "      <td>-3.024336</td>\n",
       "      <td>-1.095315</td>\n",
       "      <td>-1.887882</td>\n",
       "      <td>0.721616</td>\n",
       "    </tr>\n",
       "    <tr>\n",
       "      <th>1</th>\n",
       "      <td>0</td>\n",
       "      <td>0</td>\n",
       "      <td>relu</td>\n",
       "      <td>13.943288</td>\n",
       "      <td>0.287599</td>\n",
       "      <td>0.295754</td>\n",
       "      <td>0.018892</td>\n",
       "      <td>-7.876654</td>\n",
       "      <td>-8.002765</td>\n",
       "      <td>-7.793879</td>\n",
       "      <td>...</td>\n",
       "      <td>-7.976894</td>\n",
       "      <td>0.124440</td>\n",
       "      <td>40</td>\n",
       "      <td>-8.002028</td>\n",
       "      <td>-7.970431</td>\n",
       "      <td>-8.022614</td>\n",
       "      <td>-7.943718</td>\n",
       "      <td>-7.945698</td>\n",
       "      <td>-7.976898</td>\n",
       "      <td>0.031105</td>\n",
       "    </tr>\n",
       "    <tr>\n",
       "      <th>2</th>\n",
       "      <td>0</td>\n",
       "      <td>0</td>\n",
       "      <td>sigmoid</td>\n",
       "      <td>12.494315</td>\n",
       "      <td>0.124183</td>\n",
       "      <td>0.203067</td>\n",
       "      <td>0.020734</td>\n",
       "      <td>-3.334007</td>\n",
       "      <td>-3.429019</td>\n",
       "      <td>-3.289454</td>\n",
       "      <td>...</td>\n",
       "      <td>-3.408203</td>\n",
       "      <td>0.083531</td>\n",
       "      <td>38</td>\n",
       "      <td>-3.426807</td>\n",
       "      <td>-3.403003</td>\n",
       "      <td>-3.437868</td>\n",
       "      <td>-3.386606</td>\n",
       "      <td>-3.386745</td>\n",
       "      <td>-3.408206</td>\n",
       "      <td>0.020881</td>\n",
       "    </tr>\n",
       "    <tr>\n",
       "      <th>3</th>\n",
       "      <td>0</td>\n",
       "      <td>0</td>\n",
       "      <td>tanh</td>\n",
       "      <td>12.805012</td>\n",
       "      <td>0.312548</td>\n",
       "      <td>0.343594</td>\n",
       "      <td>0.019401</td>\n",
       "      <td>-3.334007</td>\n",
       "      <td>-3.429019</td>\n",
       "      <td>-3.289454</td>\n",
       "      <td>...</td>\n",
       "      <td>-3.408203</td>\n",
       "      <td>0.083531</td>\n",
       "      <td>38</td>\n",
       "      <td>-3.426807</td>\n",
       "      <td>-3.403003</td>\n",
       "      <td>-3.437868</td>\n",
       "      <td>-3.386606</td>\n",
       "      <td>-3.386745</td>\n",
       "      <td>-3.408206</td>\n",
       "      <td>0.020881</td>\n",
       "    </tr>\n",
       "    <tr>\n",
       "      <th>4</th>\n",
       "      <td>1</td>\n",
       "      <td>64</td>\n",
       "      <td>linear</td>\n",
       "      <td>245.377212</td>\n",
       "      <td>47.310742</td>\n",
       "      <td>0.487355</td>\n",
       "      <td>0.024138</td>\n",
       "      <td>-0.179391</td>\n",
       "      <td>-0.311087</td>\n",
       "      <td>-0.196488</td>\n",
       "      <td>...</td>\n",
       "      <td>-0.222170</td>\n",
       "      <td>0.052945</td>\n",
       "      <td>18</td>\n",
       "      <td>-0.023453</td>\n",
       "      <td>-0.124082</td>\n",
       "      <td>-0.039679</td>\n",
       "      <td>-0.014129</td>\n",
       "      <td>-0.048821</td>\n",
       "      <td>-0.050033</td>\n",
       "      <td>0.038955</td>\n",
       "    </tr>\n",
       "  </tbody>\n",
       "</table>\n",
       "<p>5 rows × 22 columns</p>\n",
       "</div>"
      ],
      "text/plain": [
       "   param_num_hidden_layers  param_hidden_layer_size param_activation_function  \\\n",
       "0                        0                        0                    linear   \n",
       "1                        0                        0                      relu   \n",
       "2                        0                        0                   sigmoid   \n",
       "3                        0                        0                      tanh   \n",
       "4                        1                       64                    linear   \n",
       "\n",
       "   mean_fit_time  std_fit_time  mean_score_time  std_score_time  \\\n",
       "0      18.877625      1.608140         0.138699        0.025194   \n",
       "1      13.943288      0.287599         0.295754        0.018892   \n",
       "2      12.494315      0.124183         0.203067        0.020734   \n",
       "3      12.805012      0.312548         0.343594        0.019401   \n",
       "4     245.377212     47.310742         0.487355        0.024138   \n",
       "\n",
       "   split0_test_score  split1_test_score  split2_test_score       ...         \\\n",
       "0          -2.373923          -2.081822          -1.334480       ...          \n",
       "1          -7.876654          -8.002765          -7.793879       ...          \n",
       "2          -3.334007          -3.429019          -3.289454       ...          \n",
       "3          -3.334007          -3.429019          -3.289454       ...          \n",
       "4          -0.179391          -0.311087          -0.196488       ...          \n",
       "\n",
       "   mean_test_score  std_test_score  rank_test_score  split0_train_score  \\\n",
       "0        -2.044422        0.784499               37           -2.306027   \n",
       "1        -7.976894        0.124440               40           -8.002028   \n",
       "2        -3.408203        0.083531               38           -3.426807   \n",
       "3        -3.408203        0.083531               38           -3.426807   \n",
       "4        -0.222170        0.052945               18           -0.023453   \n",
       "\n",
       "   split1_train_score  split2_train_score  split3_train_score  \\\n",
       "0           -1.837597           -1.176133           -3.024336   \n",
       "1           -7.970431           -8.022614           -7.943718   \n",
       "2           -3.403003           -3.437868           -3.386606   \n",
       "3           -3.403003           -3.437868           -3.386606   \n",
       "4           -0.124082           -0.039679           -0.014129   \n",
       "\n",
       "   split4_train_score  mean_train_score  std_train_score  \n",
       "0           -1.095315         -1.887882         0.721616  \n",
       "1           -7.945698         -7.976898         0.031105  \n",
       "2           -3.386745         -3.408206         0.020881  \n",
       "3           -3.386745         -3.408206         0.020881  \n",
       "4           -0.048821         -0.050033         0.038955  \n",
       "\n",
       "[5 rows x 22 columns]"
      ]
     },
     "execution_count": 11,
     "metadata": {},
     "output_type": "execute_result"
    }
   ],
   "source": [
    "df.head()"
   ]
  },
  {
   "cell_type": "markdown",
   "metadata": {},
   "source": [
    "Score is defined as the absolute value of the mean of the negative MSE on the test sets across all k-folds used in training. Other variables are renamed."
   ]
  },
  {
   "cell_type": "code",
   "execution_count": 18,
   "metadata": {},
   "outputs": [],
   "source": [
    "df['score'] = abs(df['mean_test_score'])\n",
    "df['num_hidden_layers'] = df['param_num_hidden_layers']\n",
    "df['hidden_layer_size'] = df['param_hidden_layer_size']\n",
    "df['activation_function'] = df['param_activation_function']"
   ]
  },
  {
   "cell_type": "markdown",
   "metadata": {},
   "source": [
    "We can now look at some descriptive statistics for different parameters."
   ]
  },
  {
   "cell_type": "code",
   "execution_count": 19,
   "metadata": {},
   "outputs": [
    {
     "data": {
      "text/plain": [
       "array([[<matplotlib.axes._subplots.AxesSubplot object at 0x7f7b31aa2048>]],\n",
       "      dtype=object)"
      ]
     },
     "execution_count": 19,
     "metadata": {},
     "output_type": "execute_result"
    },
    {
     "data": {
      "image/png": "[encoded data removed]",
      "text/plain": [
       "<Figure size 432x288 with 1 Axes>"
      ]
     },
     "metadata": {
      "image/png": {
       "height": 263,
       "width": 370
      },
      "needs_background": "light"
     },
     "output_type": "display_data"
    }
   ],
   "source": [
    "pd.DataFrame.hist(data=df, column='score',bins=50)"
   ]
  },
  {
   "cell_type": "code",
   "execution_count": 20,
   "metadata": {},
   "outputs": [
    {
     "data": {
      "text/plain": [
       "<matplotlib.collections.PathCollection at 0x7f7b319b6208>"
      ]
     },
     "execution_count": 20,
     "metadata": {},
     "output_type": "execute_result"
    },
    {
     "data": {
      "image/png": "[encoded data removed]",
      "text/plain": [
       "<Figure size 432x288 with 1 Axes>"
      ]
     },
     "metadata": {
      "image/png": {
       "height": 250,
       "width": 364
      },
      "needs_background": "light"
     },
     "output_type": "display_data"
    }
   ],
   "source": [
    "plt.scatter(x=df.num_hidden_layers, y=df.score)"
   ]
  },
  {
   "cell_type": "code",
   "execution_count": 21,
   "metadata": {},
   "outputs": [
    {
     "data": {
      "text/plain": [
       "<matplotlib.collections.PathCollection at 0x7f7b3191e0b8>"
      ]
     },
     "execution_count": 21,
     "metadata": {},
     "output_type": "execute_result"
    },
    {
     "data": {
      "image/png": "[encoded data removed]",
      "text/plain": [
       "<Figure size 432x288 with 1 Axes>"
      ]
     },
     "metadata": {
      "image/png": {
       "height": 250,
       "width": 364
      },
      "needs_background": "light"
     },
     "output_type": "display_data"
    }
   ],
   "source": [
    "plt.scatter(x=df.hidden_layer_size, y=df.score)"
   ]
  },
  {
   "cell_type": "code",
   "execution_count": 22,
   "metadata": {},
   "outputs": [
    {
     "data": {
      "text/html": [
       "<div>\n",
       "<style scoped>\n",
       "    .dataframe tbody tr th:only-of-type {\n",
       "        vertical-align: middle;\n",
       "    }\n",
       "\n",
       "    .dataframe tbody tr th {\n",
       "        vertical-align: top;\n",
       "    }\n",
       "\n",
       "    .dataframe thead th {\n",
       "        text-align: right;\n",
       "    }\n",
       "</style>\n",
       "<table border=\"1\" class=\"dataframe\">\n",
       "  <thead>\n",
       "    <tr style=\"text-align: right;\">\n",
       "      <th></th>\n",
       "      <th>param_num_hidden_layers</th>\n",
       "      <th>param_hidden_layer_size</th>\n",
       "      <th>param_activation_function</th>\n",
       "      <th>mean_fit_time</th>\n",
       "      <th>std_fit_time</th>\n",
       "      <th>mean_score_time</th>\n",
       "      <th>std_score_time</th>\n",
       "      <th>split0_test_score</th>\n",
       "      <th>split1_test_score</th>\n",
       "      <th>split2_test_score</th>\n",
       "      <th>...</th>\n",
       "      <th>split1_train_score</th>\n",
       "      <th>split2_train_score</th>\n",
       "      <th>split3_train_score</th>\n",
       "      <th>split4_train_score</th>\n",
       "      <th>mean_train_score</th>\n",
       "      <th>std_train_score</th>\n",
       "      <th>score</th>\n",
       "      <th>num_hidden_layers</th>\n",
       "      <th>hidden_layer_size</th>\n",
       "      <th>activation_function</th>\n",
       "    </tr>\n",
       "  </thead>\n",
       "  <tbody>\n",
       "    <tr>\n",
       "      <th>0</th>\n",
       "      <td>0</td>\n",
       "      <td>0</td>\n",
       "      <td>linear</td>\n",
       "      <td>18.877625</td>\n",
       "      <td>1.608140</td>\n",
       "      <td>0.138699</td>\n",
       "      <td>0.025194</td>\n",
       "      <td>-2.373923</td>\n",
       "      <td>-2.081822</td>\n",
       "      <td>-1.334480</td>\n",
       "      <td>...</td>\n",
       "      <td>-1.837597</td>\n",
       "      <td>-1.176133</td>\n",
       "      <td>-3.024336</td>\n",
       "      <td>-1.095315</td>\n",
       "      <td>-1.887882</td>\n",
       "      <td>0.721616</td>\n",
       "      <td>2.044422</td>\n",
       "      <td>0</td>\n",
       "      <td>0</td>\n",
       "      <td>linear</td>\n",
       "    </tr>\n",
       "    <tr>\n",
       "      <th>1</th>\n",
       "      <td>0</td>\n",
       "      <td>0</td>\n",
       "      <td>relu</td>\n",
       "      <td>13.943288</td>\n",
       "      <td>0.287599</td>\n",
       "      <td>0.295754</td>\n",
       "      <td>0.018892</td>\n",
       "      <td>-7.876654</td>\n",
       "      <td>-8.002765</td>\n",
       "      <td>-7.793879</td>\n",
       "      <td>...</td>\n",
       "      <td>-7.970431</td>\n",
       "      <td>-8.022614</td>\n",
       "      <td>-7.943718</td>\n",
       "      <td>-7.945698</td>\n",
       "      <td>-7.976898</td>\n",
       "      <td>0.031105</td>\n",
       "      <td>7.976894</td>\n",
       "      <td>0</td>\n",
       "      <td>0</td>\n",
       "      <td>relu</td>\n",
       "    </tr>\n",
       "    <tr>\n",
       "      <th>2</th>\n",
       "      <td>0</td>\n",
       "      <td>0</td>\n",
       "      <td>sigmoid</td>\n",
       "      <td>12.494315</td>\n",
       "      <td>0.124183</td>\n",
       "      <td>0.203067</td>\n",
       "      <td>0.020734</td>\n",
       "      <td>-3.334007</td>\n",
       "      <td>-3.429019</td>\n",
       "      <td>-3.289454</td>\n",
       "      <td>...</td>\n",
       "      <td>-3.403003</td>\n",
       "      <td>-3.437868</td>\n",
       "      <td>-3.386606</td>\n",
       "      <td>-3.386745</td>\n",
       "      <td>-3.408206</td>\n",
       "      <td>0.020881</td>\n",
       "      <td>3.408203</td>\n",
       "      <td>0</td>\n",
       "      <td>0</td>\n",
       "      <td>sigmoid</td>\n",
       "    </tr>\n",
       "    <tr>\n",
       "      <th>3</th>\n",
       "      <td>0</td>\n",
       "      <td>0</td>\n",
       "      <td>tanh</td>\n",
       "      <td>12.805012</td>\n",
       "      <td>0.312548</td>\n",
       "      <td>0.343594</td>\n",
       "      <td>0.019401</td>\n",
       "      <td>-3.334007</td>\n",
       "      <td>-3.429019</td>\n",
       "      <td>-3.289454</td>\n",
       "      <td>...</td>\n",
       "      <td>-3.403003</td>\n",
       "      <td>-3.437868</td>\n",
       "      <td>-3.386606</td>\n",
       "      <td>-3.386745</td>\n",
       "      <td>-3.408206</td>\n",
       "      <td>0.020881</td>\n",
       "      <td>3.408203</td>\n",
       "      <td>0</td>\n",
       "      <td>0</td>\n",
       "      <td>tanh</td>\n",
       "    </tr>\n",
       "    <tr>\n",
       "      <th>4</th>\n",
       "      <td>1</td>\n",
       "      <td>64</td>\n",
       "      <td>linear</td>\n",
       "      <td>245.377212</td>\n",
       "      <td>47.310742</td>\n",
       "      <td>0.487355</td>\n",
       "      <td>0.024138</td>\n",
       "      <td>-0.179391</td>\n",
       "      <td>-0.311087</td>\n",
       "      <td>-0.196488</td>\n",
       "      <td>...</td>\n",
       "      <td>-0.124082</td>\n",
       "      <td>-0.039679</td>\n",
       "      <td>-0.014129</td>\n",
       "      <td>-0.048821</td>\n",
       "      <td>-0.050033</td>\n",
       "      <td>0.038955</td>\n",
       "      <td>0.222170</td>\n",
       "      <td>1</td>\n",
       "      <td>64</td>\n",
       "      <td>linear</td>\n",
       "    </tr>\n",
       "  </tbody>\n",
       "</table>\n",
       "<p>5 rows × 26 columns</p>\n",
       "</div>"
      ],
      "text/plain": [
       "   param_num_hidden_layers  param_hidden_layer_size param_activation_function  \\\n",
       "0                        0                        0                    linear   \n",
       "1                        0                        0                      relu   \n",
       "2                        0                        0                   sigmoid   \n",
       "3                        0                        0                      tanh   \n",
       "4                        1                       64                    linear   \n",
       "\n",
       "   mean_fit_time  std_fit_time  mean_score_time  std_score_time  \\\n",
       "0      18.877625      1.608140         0.138699        0.025194   \n",
       "1      13.943288      0.287599         0.295754        0.018892   \n",
       "2      12.494315      0.124183         0.203067        0.020734   \n",
       "3      12.805012      0.312548         0.343594        0.019401   \n",
       "4     245.377212     47.310742         0.487355        0.024138   \n",
       "\n",
       "   split0_test_score  split1_test_score  split2_test_score  \\\n",
       "0          -2.373923          -2.081822          -1.334480   \n",
       "1          -7.876654          -8.002765          -7.793879   \n",
       "2          -3.334007          -3.429019          -3.289454   \n",
       "3          -3.334007          -3.429019          -3.289454   \n",
       "4          -0.179391          -0.311087          -0.196488   \n",
       "\n",
       "          ...           split1_train_score  split2_train_score  \\\n",
       "0         ...                    -1.837597           -1.176133   \n",
       "1         ...                    -7.970431           -8.022614   \n",
       "2         ...                    -3.403003           -3.437868   \n",
       "3         ...                    -3.403003           -3.437868   \n",
       "4         ...                    -0.124082           -0.039679   \n",
       "\n",
       "   split3_train_score  split4_train_score  mean_train_score  std_train_score  \\\n",
       "0           -3.024336           -1.095315         -1.887882         0.721616   \n",
       "1           -7.943718           -7.945698         -7.976898         0.031105   \n",
       "2           -3.386606           -3.386745         -3.408206         0.020881   \n",
       "3           -3.386606           -3.386745         -3.408206         0.020881   \n",
       "4           -0.014129           -0.048821         -0.050033         0.038955   \n",
       "\n",
       "      score  num_hidden_layers  hidden_layer_size  activation_function  \n",
       "0  2.044422                  0                  0               linear  \n",
       "1  7.976894                  0                  0                 relu  \n",
       "2  3.408203                  0                  0              sigmoid  \n",
       "3  3.408203                  0                  0                 tanh  \n",
       "4  0.222170                  1                 64               linear  \n",
       "\n",
       "[5 rows x 26 columns]"
      ]
     },
     "execution_count": 22,
     "metadata": {},
     "output_type": "execute_result"
    }
   ],
   "source": [
    "df.head()"
   ]
  },
  {
   "cell_type": "code",
   "execution_count": 23,
   "metadata": {},
   "outputs": [],
   "source": [
    "activation_dummies = pd.get_dummies(df.activation_function)"
   ]
  },
  {
   "cell_type": "code",
   "execution_count": 24,
   "metadata": {},
   "outputs": [],
   "source": [
    "df['layers_and_size_interaction'] = df.num_hidden_layers + df.hidden_layer_size"
   ]
  },
  {
   "cell_type": "code",
   "execution_count": 25,
   "metadata": {},
   "outputs": [],
   "source": [
    "df = pd.concat([df,activation_dummies],axis=1)"
   ]
  },
  {
   "cell_type": "code",
   "execution_count": 26,
   "metadata": {},
   "outputs": [
    {
     "data": {
      "text/plain": [
       "Index(['param_num_hidden_layers', 'param_hidden_layer_size',\n",
       "       'param_activation_function', 'mean_fit_time', 'std_fit_time',\n",
       "       'mean_score_time', 'std_score_time', 'split0_test_score',\n",
       "       'split1_test_score', 'split2_test_score', 'split3_test_score',\n",
       "       'split4_test_score', 'mean_test_score', 'std_test_score',\n",
       "       'rank_test_score', 'split0_train_score', 'split1_train_score',\n",
       "       'split2_train_score', 'split3_train_score', 'split4_train_score',\n",
       "       'mean_train_score', 'std_train_score', 'score', 'num_hidden_layers',\n",
       "       'hidden_layer_size', 'activation_function',\n",
       "       'layers_and_size_interaction', 'linear', 'relu', 'sigmoid', 'tanh'],\n",
       "      dtype='object')"
      ]
     },
     "execution_count": 26,
     "metadata": {},
     "output_type": "execute_result"
    }
   ],
   "source": [
    "df.columns"
   ]
  },
  {
   "cell_type": "markdown",
   "metadata": {},
   "source": [
    "Basic OLS model:"
   ]
  },
  {
   "cell_type": "code",
   "execution_count": 27,
   "metadata": {},
   "outputs": [
    {
     "name": "stdout",
     "output_type": "stream",
     "text": [
      "                            OLS Regression Results                            \n",
      "==============================================================================\n",
      "Dep. Variable:                  score   R-squared:                       0.384\n",
      "Model:                            OLS   Adj. R-squared:                  0.293\n",
      "Method:                 Least Squares   F-statistic:                     4.240\n",
      "Date:                Tue, 06 Nov 2018   Prob (F-statistic):            0.00420\n",
      "Time:                        14:35:30   Log-Likelihood:                -60.205\n",
      "No. Observations:                  40   AIC:                             132.4\n",
      "Df Residuals:                      34   BIC:                             142.5\n",
      "Df Model:                           5                                         \n",
      "Covariance Type:            nonrobust                                         \n",
      "=====================================================================================\n",
      "                        coef    std err          t      P>|t|      [0.025      0.975]\n",
      "-------------------------------------------------------------------------------------\n",
      "Intercept             2.1931      0.541      4.052      0.000       1.093       3.293\n",
      "num_hidden_layers    -0.6496      0.201     -3.235      0.003      -1.058      -0.242\n",
      "hidden_layer_size    -0.0042      0.002     -1.865      0.071      -0.009       0.000\n",
      "relu                  0.5912      0.529      1.118      0.271      -0.483       1.666\n",
      "sigmoid               0.0697      0.529      0.132      0.896      -1.005       1.144\n",
      "tanh                  0.0880      0.529      0.166      0.869      -0.987       1.162\n",
      "==============================================================================\n",
      "Omnibus:                       44.789   Durbin-Watson:                   1.227\n",
      "Prob(Omnibus):                  0.000   Jarque-Bera (JB):              220.162\n",
      "Skew:                           2.537   Prob(JB):                     1.56e-48\n",
      "Kurtosis:                      13.313   Cond. No.                         721.\n",
      "==============================================================================\n",
      "\n",
      "Warnings:\n",
      "[1] Standard Errors assume that the covariance matrix of the errors is correctly specified.\n"
     ]
    }
   ],
   "source": [
    "model1 = smf.ols(formula='score ~ num_hidden_layers + hidden_layer_size\\\n",
    "                + relu + sigmoid + tanh', data=df)\n",
    "\n",
    "results1 = model1.fit()\n",
    "print(results1.summary())"
   ]
  },
  {
   "cell_type": "markdown",
   "metadata": {},
   "source": [
    "OLS model with interaction between layer number and size:"
   ]
  },
  {
   "cell_type": "code",
   "execution_count": 28,
   "metadata": {},
   "outputs": [
    {
     "name": "stdout",
     "output_type": "stream",
     "text": [
      "                            OLS Regression Results                            \n",
      "==============================================================================\n",
      "Dep. Variable:                  score   R-squared:                       0.384\n",
      "Model:                            OLS   Adj. R-squared:                  0.293\n",
      "Method:                 Least Squares   F-statistic:                     4.240\n",
      "Date:                Tue, 06 Nov 2018   Prob (F-statistic):            0.00420\n",
      "Time:                        14:35:34   Log-Likelihood:                -60.205\n",
      "No. Observations:                  40   AIC:                             132.4\n",
      "Df Residuals:                      34   BIC:                             142.5\n",
      "Df Model:                           5                                         \n",
      "Covariance Type:            nonrobust                                         \n",
      "===============================================================================================\n",
      "                                  coef    std err          t      P>|t|      [0.025      0.975]\n",
      "-----------------------------------------------------------------------------------------------\n",
      "Intercept                       2.1931      0.541      4.052      0.000       1.093       3.293\n",
      "num_hidden_layers              -0.4317      0.134     -3.219      0.003      -0.704      -0.159\n",
      "hidden_layer_size               0.2138      0.067      3.171      0.003       0.077       0.351\n",
      "layers_and_size_interaction    -0.2179      0.067     -3.267      0.002      -0.354      -0.082\n",
      "relu                            0.5912      0.529      1.118      0.271      -0.483       1.666\n",
      "sigmoid                         0.0697      0.529      0.132      0.896      -1.005       1.144\n",
      "tanh                            0.0880      0.529      0.166      0.869      -0.987       1.162\n",
      "==============================================================================\n",
      "Omnibus:                       44.789   Durbin-Watson:                   1.227\n",
      "Prob(Omnibus):                  0.000   Jarque-Bera (JB):              220.162\n",
      "Skew:                           2.537   Prob(JB):                     1.56e-48\n",
      "Kurtosis:                      13.313   Cond. No.                     8.25e+15\n",
      "==============================================================================\n",
      "\n",
      "Warnings:\n",
      "[1] Standard Errors assume that the covariance matrix of the errors is correctly specified.\n",
      "[2] The smallest eigenvalue is 3.06e-26. This might indicate that there are\n",
      "strong multicollinearity problems or that the design matrix is singular.\n"
     ]
    }
   ],
   "source": [
    "model2 = smf.ols(formula='score ~ num_hidden_layers + hidden_layer_size + layers_and_size_interaction \\\n",
    "                + relu + sigmoid + tanh', data=df)\n",
    "\n",
    "results2 = model2.fit()\n",
    "print(results2.summary())"
   ]
  },
  {
   "cell_type": "markdown",
   "metadata": {},
   "source": [
    "None of the coefficients are significant, making it difficult to interpret the results of the model. Overall it appears that all of the activation functions have a stronger negative effect on mean squared error (thus improving the predictions) than the reference category, the linear activation function. The number of hidden layers and the interaction between this and the hidden layer size (the number of neurons in the layer) are both also negative, which hidden layer size alone is positive.\n",
    "\n",
    "An issue with the current data is that the outliers with extremely high MSE, where the model was never able to converge towards sensible predictions, may be biasing the results. To assess whether this is the case I can re-run the models excluding these outliers."
   ]
  },
  {
   "cell_type": "code",
   "execution_count": 29,
   "metadata": {},
   "outputs": [],
   "source": [
    "df_ = df[df['score'] <= 1.0]"
   ]
  },
  {
   "cell_type": "code",
   "execution_count": 30,
   "metadata": {},
   "outputs": [
    {
     "data": {
      "text/plain": [
       "(36, 31)"
      ]
     },
     "execution_count": 30,
     "metadata": {},
     "output_type": "execute_result"
    }
   ],
   "source": [
    "df_.shape"
   ]
  },
  {
   "cell_type": "markdown",
   "metadata": {},
   "source": [
    "Basic model without outliers:"
   ]
  },
  {
   "cell_type": "code",
   "execution_count": 31,
   "metadata": {},
   "outputs": [
    {
     "name": "stdout",
     "output_type": "stream",
     "text": [
      "                            OLS Regression Results                            \n",
      "==============================================================================\n",
      "Dep. Variable:                  score   R-squared:                       0.223\n",
      "Model:                            OLS   Adj. R-squared:                  0.093\n",
      "Method:                 Least Squares   F-statistic:                     1.718\n",
      "Date:                Tue, 06 Nov 2018   Prob (F-statistic):              0.161\n",
      "Time:                        14:35:46   Log-Likelihood:                 24.291\n",
      "No. Observations:                  36   AIC:                            -36.58\n",
      "Df Residuals:                      30   BIC:                            -27.08\n",
      "Df Model:                           5                                         \n",
      "Covariance Type:            nonrobust                                         \n",
      "=====================================================================================\n",
      "                        coef    std err          t      P>|t|      [0.025      0.975]\n",
      "-------------------------------------------------------------------------------------\n",
      "Intercept             0.2789      0.083      3.374      0.002       0.110       0.448\n",
      "num_hidden_layers    -0.0399      0.028     -1.450      0.157      -0.096       0.016\n",
      "hidden_layer_size     0.0006      0.000      2.106      0.044    1.78e-05       0.001\n",
      "relu                 -0.0022      0.064     -0.035      0.972      -0.132       0.128\n",
      "sigmoid              -0.0741      0.064     -1.165      0.253      -0.204       0.056\n",
      "tanh                 -0.0538      0.064     -0.845      0.405      -0.184       0.076\n",
      "==============================================================================\n",
      "Omnibus:                       50.759   Durbin-Watson:                   2.121\n",
      "Prob(Omnibus):                  0.000   Jarque-Bera (JB):              292.579\n",
      "Skew:                           3.113   Prob(JB):                     2.93e-64\n",
      "Kurtosis:                      15.502   Cond. No.                         794.\n",
      "==============================================================================\n",
      "\n",
      "Warnings:\n",
      "[1] Standard Errors assume that the covariance matrix of the errors is correctly specified.\n"
     ]
    }
   ],
   "source": [
    "model3 = smf.ols(formula='score ~ num_hidden_layers + hidden_layer_size \\\n",
    "                + relu + sigmoid + tanh', data=df_)\n",
    "\n",
    "results3 = model3.fit()\n",
    "print(results3.summary())"
   ]
  },
  {
   "cell_type": "markdown",
   "metadata": {},
   "source": [
    "Including interactions:"
   ]
  },
  {
   "cell_type": "code",
   "execution_count": 32,
   "metadata": {},
   "outputs": [
    {
     "name": "stdout",
     "output_type": "stream",
     "text": [
      "                            OLS Regression Results                            \n",
      "==============================================================================\n",
      "Dep. Variable:                  score   R-squared:                       0.223\n",
      "Model:                            OLS   Adj. R-squared:                  0.093\n",
      "Method:                 Least Squares   F-statistic:                     1.718\n",
      "Date:                Tue, 06 Nov 2018   Prob (F-statistic):              0.161\n",
      "Time:                        14:35:50   Log-Likelihood:                 24.291\n",
      "No. Observations:                  36   AIC:                            -36.58\n",
      "Df Residuals:                      30   BIC:                            -27.08\n",
      "Df Model:                           5                                         \n",
      "Covariance Type:            nonrobust                                         \n",
      "===============================================================================================\n",
      "                                  coef    std err          t      P>|t|      [0.025      0.975]\n",
      "-----------------------------------------------------------------------------------------------\n",
      "Intercept                       0.2789      0.083      3.374      0.002       0.110       0.448\n",
      "num_hidden_layers              -0.0268      0.018     -1.461      0.155      -0.064       0.011\n",
      "hidden_layer_size               0.0137      0.009      1.493      0.146      -0.005       0.032\n",
      "layers_and_size_interaction    -0.0131      0.009     -1.428      0.164      -0.032       0.006\n",
      "relu                           -0.0022      0.064     -0.035      0.972      -0.132       0.128\n",
      "sigmoid                        -0.0741      0.064     -1.165      0.253      -0.204       0.056\n",
      "tanh                           -0.0538      0.064     -0.845      0.405      -0.184       0.076\n",
      "==============================================================================\n",
      "Omnibus:                       50.759   Durbin-Watson:                   2.121\n",
      "Prob(Omnibus):                  0.000   Jarque-Bera (JB):              292.579\n",
      "Skew:                           3.113   Prob(JB):                     2.93e-64\n",
      "Kurtosis:                      15.502   Cond. No.                     7.99e+16\n",
      "==============================================================================\n",
      "\n",
      "Warnings:\n",
      "[1] Standard Errors assume that the covariance matrix of the errors is correctly specified.\n",
      "[2] The smallest eigenvalue is 3.27e-28. This might indicate that there are\n",
      "strong multicollinearity problems or that the design matrix is singular.\n"
     ]
    }
   ],
   "source": [
    "model4 = smf.ols(formula='score ~ num_hidden_layers + hidden_layer_size + layers_and_size_interaction \\\n",
    "                + relu + sigmoid + tanh', data=df_)\n",
    "\n",
    "results4 = model4.fit()\n",
    "print(results4.summary())"
   ]
  },
  {
   "cell_type": "markdown",
   "metadata": {},
   "source": [
    "Here we see that the overall model fit has improved, with the R-squared value increasing from 0.079 to 0.374. The coefficient for the ReLU activation is also positive now, consistent with the observation that its performance tends to fluctuate more than the other functions.\n",
    "\n",
    "Overall these results show that there are no clear, statistically significant, effects of basic architecture on model performance. Nonetheless the observed differences in the results elsewhere provide some evidence that models with more layers and node and non-linear activation are better able to generalize to out-of-sample data. The small number of observations may also be preventing us from seeing statistically significant relationships. Future work should assess the performance of models over a greater range of architectures to better assess how these choices affect predictive performance."
   ]
  },
  {
   "cell_type": "code",
   "execution_count": 33,
   "metadata": {},
   "outputs": [],
   "source": [
    "info = {'N': lambda x: str(int(x.nobs)),\n",
    "        'R2': lambda x: '%.3f' % x.rsquared,\n",
    "        'R2-adj': lambda x: '%.3f' % x.rsquared_adj,\n",
    "        'F': lambda x: '%.3f' % x.fvalue} \n",
    "\n",
    "tbl = summary_col([results1, results2, results3, results4],\n",
    "                  model_names=['Model 1', 'Model 2', 'Model 3', 'Model 4'],\n",
    "                  info_dict =  info,\n",
    "                  stars=True, \n",
    "                  float_format='%0.4f',\n",
    "                  regressor_order=['num_hidden_layers', 'hidden_layer_size', 'layer_and_size_interaction',\n",
    "                                  'relu', 'sigmoid', 'tanh', 'Intercept'])"
   ]
  },
  {
   "cell_type": "code",
   "execution_count": 34,
   "metadata": {},
   "outputs": [
    {
     "data": {
      "text/html": [
       "<table class=\"simpletable\">\n",
       "<tr>\n",
       "               <td></td>                 <th>Model 1</th>    <th>Model 2</th>   <th>Model 3</th>   <th>Model 4</th> \n",
       "</tr>\n",
       "<tr>\n",
       "  <th>num_hidden_layers</th>           <td>-0.6496***</td> <td>-0.4317***</td>  <td>-0.0399</td>   <td>-0.0268</td> \n",
       "</tr>\n",
       "<tr>\n",
       "  <th></th>                             <td>(0.2008)</td>   <td>(0.1341)</td>  <td>(0.0276)</td>  <td>(0.0184)</td> \n",
       "</tr>\n",
       "<tr>\n",
       "  <th>hidden_layer_size</th>            <td>-0.0042*</td>   <td>0.2138***</td> <td>0.0006**</td>   <td>0.0137</td>  \n",
       "</tr>\n",
       "<tr>\n",
       "  <th></th>                             <td>(0.0022)</td>   <td>(0.0674)</td>  <td>(0.0003)</td>  <td>(0.0092)</td> \n",
       "</tr>\n",
       "<tr>\n",
       "  <th>relu</th>                          <td>0.5912</td>     <td>0.5912</td>    <td>-0.0022</td>   <td>-0.0022</td> \n",
       "</tr>\n",
       "<tr>\n",
       "  <th></th>                             <td>(0.5287)</td>   <td>(0.5287)</td>  <td>(0.0636)</td>  <td>(0.0636)</td> \n",
       "</tr>\n",
       "<tr>\n",
       "  <th>sigmoid</th>                       <td>0.0697</td>     <td>0.0697</td>    <td>-0.0741</td>   <td>-0.0741</td> \n",
       "</tr>\n",
       "<tr>\n",
       "  <th></th>                             <td>(0.5287)</td>   <td>(0.5287)</td>  <td>(0.0636)</td>  <td>(0.0636)</td> \n",
       "</tr>\n",
       "<tr>\n",
       "  <th>tanh</th>                          <td>0.0880</td>     <td>0.0880</td>    <td>-0.0538</td>   <td>-0.0538</td> \n",
       "</tr>\n",
       "<tr>\n",
       "  <th></th>                             <td>(0.5287)</td>   <td>(0.5287)</td>  <td>(0.0636)</td>  <td>(0.0636)</td> \n",
       "</tr>\n",
       "<tr>\n",
       "  <th>Intercept</th>                    <td>2.1931***</td>  <td>2.1931***</td> <td>0.2789***</td> <td>0.2789***</td>\n",
       "</tr>\n",
       "<tr>\n",
       "  <th></th>                             <td>(0.5413)</td>   <td>(0.5413)</td>  <td>(0.0827)</td>  <td>(0.0827)</td> \n",
       "</tr>\n",
       "<tr>\n",
       "  <th>layers_and_size_interaction</th>      <td></td>      <td>-0.2179***</td>     <td></td>       <td>-0.0131</td> \n",
       "</tr>\n",
       "<tr>\n",
       "  <th></th>                                 <td></td>       <td>(0.0667)</td>      <td></td>      <td>(0.0092)</td> \n",
       "</tr>\n",
       "<tr>\n",
       "  <th>N</th>                               <td>40</td>         <td>40</td>        <td>36</td>        <td>36</td>    \n",
       "</tr>\n",
       "<tr>\n",
       "  <th>R2</th>                             <td>0.384</td>      <td>0.384</td>     <td>0.223</td>     <td>0.223</td>  \n",
       "</tr>\n",
       "<tr>\n",
       "  <th>R2-adj</th>                         <td>0.293</td>      <td>0.293</td>     <td>0.093</td>     <td>0.093</td>  \n",
       "</tr>\n",
       "<tr>\n",
       "  <th>F</th>                              <td>4.240</td>      <td>4.240</td>     <td>1.718</td>     <td>1.718</td>  \n",
       "</tr>\n",
       "</table>"
      ],
      "text/plain": [
       "<class 'statsmodels.iolib.summary2.Summary'>\n",
       "\"\"\"\n",
       "\n",
       "=====================================================================\n",
       "                             Model 1    Model 2    Model 3   Model 4 \n",
       "---------------------------------------------------------------------\n",
       "num_hidden_layers           -0.6496*** -0.4317*** -0.0399   -0.0268  \n",
       "                            (0.2008)   (0.1341)   (0.0276)  (0.0184) \n",
       "hidden_layer_size           -0.0042*   0.2138***  0.0006**  0.0137   \n",
       "                            (0.0022)   (0.0674)   (0.0003)  (0.0092) \n",
       "relu                        0.5912     0.5912     -0.0022   -0.0022  \n",
       "                            (0.5287)   (0.5287)   (0.0636)  (0.0636) \n",
       "sigmoid                     0.0697     0.0697     -0.0741   -0.0741  \n",
       "                            (0.5287)   (0.5287)   (0.0636)  (0.0636) \n",
       "tanh                        0.0880     0.0880     -0.0538   -0.0538  \n",
       "                            (0.5287)   (0.5287)   (0.0636)  (0.0636) \n",
       "Intercept                   2.1931***  2.1931***  0.2789*** 0.2789***\n",
       "                            (0.5413)   (0.5413)   (0.0827)  (0.0827) \n",
       "layers_and_size_interaction            -0.2179***           -0.0131  \n",
       "                                       (0.0667)             (0.0092) \n",
       "N                           40         40         36        36       \n",
       "R2                          0.384      0.384      0.223     0.223    \n",
       "R2-adj                      0.293      0.293      0.093     0.093    \n",
       "F                           4.240      4.240      1.718     1.718    \n",
       "=====================================================================\n",
       "Standard errors in parentheses.\n",
       "* p<.1, ** p<.05, ***p<.01\n",
       "\"\"\""
      ]
     },
     "execution_count": 34,
     "metadata": {},
     "output_type": "execute_result"
    }
   ],
   "source": [
    "tbl # Order is incorrect here even though specified above. Manually changed for paper."
   ]
  }
 ],
 "metadata": {
  "kernelspec": {
   "display_name": "Python 3",
   "language": "python",
   "name": "python3"
  },
  "language_info": {
   "codemirror_mode": {
    "name": "ipython",
    "version": 3
   },
   "file_extension": ".py",
   "mimetype": "text/x-python",
   "name": "python",
   "nbconvert_exporter": "python",
   "pygments_lexer": "ipython3",
   "version": "3.6.6"
  }
 },
 "nbformat": 4,
 "nbformat_minor": 2
}
