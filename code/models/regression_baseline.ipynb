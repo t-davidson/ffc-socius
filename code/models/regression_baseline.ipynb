{
 "cells": [
  {
   "cell_type": "markdown",
   "metadata": {
    "deletable": true,
    "editable": true
   },
   "source": [
    "# Predicting GPA\n",
    "## Baseline analysis using OLS regression\n",
    "\n",
    "***Note that these analyses were performed after the completion of the competition and that these models were not submitted as part of the challenge.***\n",
    "\n",
    "The initial pre-processing steps are exactly the same as in the main notebook although any set up pertaining to Keras has been removed.\n",
    "\n",
    "\n",
    "# Loading packages and data"
   ]
  },
  {
   "cell_type": "code",
   "execution_count": 1,
   "metadata": {
    "collapsed": true,
    "deletable": true,
    "editable": true
   },
   "outputs": [],
   "source": [
    "# Set up to ensure reproducibility following https://keras.io/getting-started/faq/#how-can-i-obtain-reproducible-results-using-keras-during-development\n",
    "import numpy as np\n",
    "import random\n",
    "import os\n",
    "\n",
    "os.environ['PYTHONHASHSEED'] = '0'\n",
    "\n",
    "# The below is necessary for starting Numpy generated random numbers\n",
    "# in a well-defined initial state.\n",
    "np.random.seed(42)\n",
    "\n",
    "# The below is necessary for starting core Python generated random numbers\n",
    "# in a well-defined state.\n",
    "random.seed(54321)\n",
    "\n",
    "import pandas as pd\n",
    "from sklearn.linear_model import LinearRegression\n",
    "from sklearn.preprocessing import StandardScaler\n",
    "from sklearn.model_selection import train_test_split, GridSearchCV\n",
    "from sklearn.metrics import mean_squared_error\n",
    "\n",
    "import warnings\n",
    "warnings.filterwarnings(\"ignore\", category=DeprecationWarning) "
   ]
  },
  {
   "cell_type": "markdown",
   "metadata": {
    "deletable": true,
    "editable": true
   },
   "source": [
    "Loading the files\n",
    "\n",
    "***Note: These data cannot be provided on Github and I will delete my copies in accordance with the FFC agreement. If you would like copies of the data to replicate these analyses please contact the Fragile Familes survey.***"
   ]
  },
  {
   "cell_type": "code",
   "execution_count": 2,
   "metadata": {
    "collapsed": true,
    "deletable": true,
    "editable": true
   },
   "outputs": [],
   "source": [
    "train=pd.read_csv('../../ff_data/train.csv',low_memory=False, index_col='challengeID')\n",
    "predictions=pd.read_csv('../../ff_data/prediction.csv',low_memory=False, index_col='challengeID')"
   ]
  },
  {
   "cell_type": "markdown",
   "metadata": {
    "deletable": true,
    "editable": true
   },
   "source": [
    "To generate `full_imputed.p` the script `clean_files.py` must first be run. If necessary it can be executed and run by uncommenting the line below."
   ]
  },
  {
   "cell_type": "code",
   "execution_count": 3,
   "metadata": {
    "collapsed": true,
    "deletable": true,
    "editable": true
   },
   "outputs": [],
   "source": [
    "#! python clean_files.py"
   ]
  },
  {
   "cell_type": "code",
   "execution_count": 3,
   "metadata": {
    "collapsed": true,
    "deletable": true,
    "editable": true
   },
   "outputs": [],
   "source": [
    "data = pd.read_pickle('../../ff_data/full_imputed.p') # load imputed data output after running the clean_files.py"
   ]
  },
  {
   "cell_type": "code",
   "execution_count": 4,
   "metadata": {
    "collapsed": false,
    "deletable": true,
    "editable": true
   },
   "outputs": [
    {
     "data": {
      "text/plain": [
       "(4242, 4568)"
      ]
     },
     "execution_count": 4,
     "metadata": {},
     "output_type": "execute_result"
    }
   ],
   "source": [
    "data.shape"
   ]
  },
  {
   "cell_type": "markdown",
   "metadata": {
    "deletable": true,
    "editable": true
   },
   "source": [
    "Extract the outcomes from the imputed data."
   ]
  },
  {
   "cell_type": "code",
   "execution_count": 5,
   "metadata": {
    "collapsed": true,
    "deletable": true,
    "editable": true
   },
   "outputs": [],
   "source": [
    "y = data[['gpa','grit','materialHardship','eviction','layoff','jobTraining']]\n",
    "X = data\n",
    "for c in X.columns:\n",
    "    if c in list(y.columns):\n",
    "        del X[c]"
   ]
  },
  {
   "cell_type": "markdown",
   "metadata": {
    "deletable": true,
    "editable": true
   },
   "source": [
    "# Data processing\n",
    "\n",
    "***Note: These are the exact same preprocessing steps as used with the neural network models so the baseline comparison is fair. It is possible, and indeed highly likely, that a linear regression might perform better with different inputs or preprocessing.***\n",
    "\n",
    "Before modelling the data there are two types of transformations that I use to optimize them for the neural network.\n",
    "\n",
    "Categorical variables are transformed using one-hot encoding. Continuous variables are also normalized to have a mean of zero.\n",
    "\n",
    "To identify which columns belong to which group I use same heuristic as in the imputation script."
   ]
  },
  {
   "cell_type": "code",
   "execution_count": 6,
   "metadata": {
    "collapsed": true,
    "deletable": true,
    "editable": true
   },
   "outputs": [],
   "source": [
    "# Identify categorical columns\n",
    "cat_cols = []\n",
    "non_cat_cols = []\n",
    "for i, c in enumerate(X.columns):\n",
    "    is_categorical = False\n",
    "    vals = set(list(X[c]))\n",
    "    vals = {x for x in vals if x==x} # Removes nans, otherwise treated as unique\n",
    "    if X[c].dtype == 'float64': # if float and low num distinct then treat as cat\n",
    "        if len(vals) <= 20:\n",
    "            is_categorical = True\n",
    "        else:\n",
    "            pass\n",
    "    else:\n",
    "        is_categorical = True\n",
    "    \n",
    "    # Now append to relevant list of columns\n",
    "    if is_categorical:\n",
    "        cat_cols.append(c)\n",
    "        \n",
    "    else:\n",
    "        non_cat_cols.append(c)"
   ]
  },
  {
   "cell_type": "code",
   "execution_count": 7,
   "metadata": {
    "collapsed": true,
    "deletable": true,
    "editable": true
   },
   "outputs": [],
   "source": [
    "X_dummies = pd.get_dummies(X, columns=cat_cols)\n",
    "# Note that sklearn also has one-hot encoding but doesn't relabel"
   ]
  },
  {
   "cell_type": "code",
   "execution_count": 8,
   "metadata": {
    "collapsed": false,
    "deletable": true,
    "editable": true
   },
   "outputs": [
    {
     "data": {
      "text/html": [
       "<div>\n",
       "<style>\n",
       "    .dataframe thead tr:only-child th {\n",
       "        text-align: right;\n",
       "    }\n",
       "\n",
       "    .dataframe thead th {\n",
       "        text-align: left;\n",
       "    }\n",
       "\n",
       "    .dataframe tbody tr th {\n",
       "        vertical-align: top;\n",
       "    }\n",
       "</style>\n",
       "<table border=\"1\" class=\"dataframe\">\n",
       "  <thead>\n",
       "    <tr style=\"text-align: right;\">\n",
       "      <th></th>\n",
       "      <th>m1lenmin</th>\n",
       "      <th>m1citywt</th>\n",
       "      <th>m1e1d1</th>\n",
       "      <th>m1e1d2</th>\n",
       "      <th>m1e1d3</th>\n",
       "      <th>m1i2a</th>\n",
       "      <th>m1i2b</th>\n",
       "      <th>m1j2a</th>\n",
       "      <th>m1j2b</th>\n",
       "      <th>cm1hhinc</th>\n",
       "      <th>...</th>\n",
       "      <th>hv4mflag_1.0</th>\n",
       "      <th>hv4mflag_2.0</th>\n",
       "      <th>hv4mflag_3.0</th>\n",
       "      <th>hv4mompreg_0.0</th>\n",
       "      <th>hv4mompreg_1.0</th>\n",
       "      <th>hv4selfht_0.0</th>\n",
       "      <th>hv4selfht_1.0</th>\n",
       "      <th>hv4selfht_2.0</th>\n",
       "      <th>hv4selfwt_0.0</th>\n",
       "      <th>hv4selfwt_1.0</th>\n",
       "    </tr>\n",
       "    <tr>\n",
       "      <th>challengeID</th>\n",
       "      <th></th>\n",
       "      <th></th>\n",
       "      <th></th>\n",
       "      <th></th>\n",
       "      <th></th>\n",
       "      <th></th>\n",
       "      <th></th>\n",
       "      <th></th>\n",
       "      <th></th>\n",
       "      <th></th>\n",
       "      <th></th>\n",
       "      <th></th>\n",
       "      <th></th>\n",
       "      <th></th>\n",
       "      <th></th>\n",
       "      <th></th>\n",
       "      <th></th>\n",
       "      <th></th>\n",
       "      <th></th>\n",
       "      <th></th>\n",
       "      <th></th>\n",
       "    </tr>\n",
       "  </thead>\n",
       "  <tbody>\n",
       "    <tr>\n",
       "      <th>1</th>\n",
       "      <td>40.0</td>\n",
       "      <td>202.485367</td>\n",
       "      <td>25.0</td>\n",
       "      <td>6.723174</td>\n",
       "      <td>13.260396</td>\n",
       "      <td>38.0</td>\n",
       "      <td>1682.415602</td>\n",
       "      <td>0.038262</td>\n",
       "      <td>2.211822</td>\n",
       "      <td>29579.694329</td>\n",
       "      <td>...</td>\n",
       "      <td>0</td>\n",
       "      <td>0</td>\n",
       "      <td>0</td>\n",
       "      <td>1</td>\n",
       "      <td>0</td>\n",
       "      <td>1</td>\n",
       "      <td>0</td>\n",
       "      <td>0</td>\n",
       "      <td>1</td>\n",
       "      <td>0</td>\n",
       "    </tr>\n",
       "    <tr>\n",
       "      <th>2</th>\n",
       "      <td>40.0</td>\n",
       "      <td>45.608219</td>\n",
       "      <td>43.0</td>\n",
       "      <td>16.000000</td>\n",
       "      <td>3.000000</td>\n",
       "      <td>25.0</td>\n",
       "      <td>3050.504448</td>\n",
       "      <td>0.110909</td>\n",
       "      <td>1.985703</td>\n",
       "      <td>20829.093487</td>\n",
       "      <td>...</td>\n",
       "      <td>0</td>\n",
       "      <td>0</td>\n",
       "      <td>0</td>\n",
       "      <td>0</td>\n",
       "      <td>1</td>\n",
       "      <td>1</td>\n",
       "      <td>0</td>\n",
       "      <td>0</td>\n",
       "      <td>1</td>\n",
       "      <td>0</td>\n",
       "    </tr>\n",
       "    <tr>\n",
       "      <th>3</th>\n",
       "      <td>35.0</td>\n",
       "      <td>39.060299</td>\n",
       "      <td>49.0</td>\n",
       "      <td>46.000000</td>\n",
       "      <td>23.000000</td>\n",
       "      <td>20.0</td>\n",
       "      <td>0.000000</td>\n",
       "      <td>12.158179</td>\n",
       "      <td>1.386592</td>\n",
       "      <td>132483.450592</td>\n",
       "      <td>...</td>\n",
       "      <td>0</td>\n",
       "      <td>0</td>\n",
       "      <td>0</td>\n",
       "      <td>1</td>\n",
       "      <td>0</td>\n",
       "      <td>1</td>\n",
       "      <td>0</td>\n",
       "      <td>0</td>\n",
       "      <td>1</td>\n",
       "      <td>0</td>\n",
       "    </tr>\n",
       "    <tr>\n",
       "      <th>4</th>\n",
       "      <td>30.0</td>\n",
       "      <td>22.304855</td>\n",
       "      <td>23.0</td>\n",
       "      <td>23.169628</td>\n",
       "      <td>5.699719</td>\n",
       "      <td>20.0</td>\n",
       "      <td>0.000000</td>\n",
       "      <td>4.165048</td>\n",
       "      <td>1.157385</td>\n",
       "      <td>0.000000</td>\n",
       "      <td>...</td>\n",
       "      <td>0</td>\n",
       "      <td>0</td>\n",
       "      <td>0</td>\n",
       "      <td>1</td>\n",
       "      <td>0</td>\n",
       "      <td>1</td>\n",
       "      <td>0</td>\n",
       "      <td>0</td>\n",
       "      <td>1</td>\n",
       "      <td>0</td>\n",
       "    </tr>\n",
       "    <tr>\n",
       "      <th>5</th>\n",
       "      <td>25.0</td>\n",
       "      <td>35.518272</td>\n",
       "      <td>90.0</td>\n",
       "      <td>64.000000</td>\n",
       "      <td>58.000000</td>\n",
       "      <td>12.0</td>\n",
       "      <td>1974.812374</td>\n",
       "      <td>12.212538</td>\n",
       "      <td>2.965919</td>\n",
       "      <td>49026.982561</td>\n",
       "      <td>...</td>\n",
       "      <td>0</td>\n",
       "      <td>0</td>\n",
       "      <td>0</td>\n",
       "      <td>1</td>\n",
       "      <td>0</td>\n",
       "      <td>1</td>\n",
       "      <td>0</td>\n",
       "      <td>0</td>\n",
       "      <td>1</td>\n",
       "      <td>0</td>\n",
       "    </tr>\n",
       "  </tbody>\n",
       "</table>\n",
       "<p>5 rows × 16391 columns</p>\n",
       "</div>"
      ],
      "text/plain": [
       "             m1lenmin    m1citywt  m1e1d1     m1e1d2     m1e1d3  m1i2a  \\\n",
       "challengeID                                                              \n",
       "1                40.0  202.485367    25.0   6.723174  13.260396   38.0   \n",
       "2                40.0   45.608219    43.0  16.000000   3.000000   25.0   \n",
       "3                35.0   39.060299    49.0  46.000000  23.000000   20.0   \n",
       "4                30.0   22.304855    23.0  23.169628   5.699719   20.0   \n",
       "5                25.0   35.518272    90.0  64.000000  58.000000   12.0   \n",
       "\n",
       "                   m1i2b      m1j2a     m1j2b       cm1hhinc      ...        \\\n",
       "challengeID                                                       ...         \n",
       "1            1682.415602   0.038262  2.211822   29579.694329      ...         \n",
       "2            3050.504448   0.110909  1.985703   20829.093487      ...         \n",
       "3               0.000000  12.158179  1.386592  132483.450592      ...         \n",
       "4               0.000000   4.165048  1.157385       0.000000      ...         \n",
       "5            1974.812374  12.212538  2.965919   49026.982561      ...         \n",
       "\n",
       "             hv4mflag_1.0  hv4mflag_2.0  hv4mflag_3.0  hv4mompreg_0.0  \\\n",
       "challengeID                                                             \n",
       "1                       0             0             0               1   \n",
       "2                       0             0             0               0   \n",
       "3                       0             0             0               1   \n",
       "4                       0             0             0               1   \n",
       "5                       0             0             0               1   \n",
       "\n",
       "             hv4mompreg_1.0  hv4selfht_0.0  hv4selfht_1.0  hv4selfht_2.0  \\\n",
       "challengeID                                                                \n",
       "1                         0              1              0              0   \n",
       "2                         1              1              0              0   \n",
       "3                         0              1              0              0   \n",
       "4                         0              1              0              0   \n",
       "5                         0              1              0              0   \n",
       "\n",
       "             hv4selfwt_0.0  hv4selfwt_1.0  \n",
       "challengeID                                \n",
       "1                        1              0  \n",
       "2                        1              0  \n",
       "3                        1              0  \n",
       "4                        1              0  \n",
       "5                        1              0  \n",
       "\n",
       "[5 rows x 16391 columns]"
      ]
     },
     "execution_count": 8,
     "metadata": {},
     "output_type": "execute_result"
    }
   ],
   "source": [
    "X_dummies.head()"
   ]
  },
  {
   "cell_type": "code",
   "execution_count": 9,
   "metadata": {
    "collapsed": true,
    "deletable": true,
    "editable": true
   },
   "outputs": [],
   "source": [
    "normalizer = StandardScaler()\n",
    "for c in non_cat_cols:\n",
    "    normed = normalizer.fit_transform(X_dummies[c].values.reshape(-1,1))\n",
    "    X_dummies[c] = normed"
   ]
  },
  {
   "cell_type": "code",
   "execution_count": 10,
   "metadata": {
    "collapsed": false,
    "deletable": true,
    "editable": true
   },
   "outputs": [
    {
     "data": {
      "text/html": [
       "<div>\n",
       "<style>\n",
       "    .dataframe thead tr:only-child th {\n",
       "        text-align: right;\n",
       "    }\n",
       "\n",
       "    .dataframe thead th {\n",
       "        text-align: left;\n",
       "    }\n",
       "\n",
       "    .dataframe tbody tr th {\n",
       "        vertical-align: top;\n",
       "    }\n",
       "</style>\n",
       "<table border=\"1\" class=\"dataframe\">\n",
       "  <thead>\n",
       "    <tr style=\"text-align: right;\">\n",
       "      <th></th>\n",
       "      <th>m1lenmin</th>\n",
       "      <th>m1citywt</th>\n",
       "      <th>m1e1d1</th>\n",
       "      <th>m1e1d2</th>\n",
       "      <th>m1e1d3</th>\n",
       "      <th>m1i2a</th>\n",
       "      <th>m1i2b</th>\n",
       "      <th>m1j2a</th>\n",
       "      <th>m1j2b</th>\n",
       "      <th>cm1hhinc</th>\n",
       "      <th>...</th>\n",
       "      <th>hv4mflag_1.0</th>\n",
       "      <th>hv4mflag_2.0</th>\n",
       "      <th>hv4mflag_3.0</th>\n",
       "      <th>hv4mompreg_0.0</th>\n",
       "      <th>hv4mompreg_1.0</th>\n",
       "      <th>hv4selfht_0.0</th>\n",
       "      <th>hv4selfht_1.0</th>\n",
       "      <th>hv4selfht_2.0</th>\n",
       "      <th>hv4selfwt_0.0</th>\n",
       "      <th>hv4selfwt_1.0</th>\n",
       "    </tr>\n",
       "    <tr>\n",
       "      <th>challengeID</th>\n",
       "      <th></th>\n",
       "      <th></th>\n",
       "      <th></th>\n",
       "      <th></th>\n",
       "      <th></th>\n",
       "      <th></th>\n",
       "      <th></th>\n",
       "      <th></th>\n",
       "      <th></th>\n",
       "      <th></th>\n",
       "      <th></th>\n",
       "      <th></th>\n",
       "      <th></th>\n",
       "      <th></th>\n",
       "      <th></th>\n",
       "      <th></th>\n",
       "      <th></th>\n",
       "      <th></th>\n",
       "      <th></th>\n",
       "      <th></th>\n",
       "      <th></th>\n",
       "    </tr>\n",
       "  </thead>\n",
       "  <tbody>\n",
       "    <tr>\n",
       "      <th>1</th>\n",
       "      <td>0.364267</td>\n",
       "      <td>0.675623</td>\n",
       "      <td>-0.545055</td>\n",
       "      <td>-0.788818</td>\n",
       "      <td>0.183309</td>\n",
       "      <td>0.255698</td>\n",
       "      <td>-0.245954</td>\n",
       "      <td>-1.512365</td>\n",
       "      <td>0.017524</td>\n",
       "      <td>-0.105330</td>\n",
       "      <td>...</td>\n",
       "      <td>0</td>\n",
       "      <td>0</td>\n",
       "      <td>0</td>\n",
       "      <td>1</td>\n",
       "      <td>0</td>\n",
       "      <td>1</td>\n",
       "      <td>0</td>\n",
       "      <td>0</td>\n",
       "      <td>1</td>\n",
       "      <td>0</td>\n",
       "    </tr>\n",
       "    <tr>\n",
       "      <th>2</th>\n",
       "      <td>0.364267</td>\n",
       "      <td>-0.197911</td>\n",
       "      <td>0.606432</td>\n",
       "      <td>-0.149595</td>\n",
       "      <td>-1.041256</td>\n",
       "      <td>-0.986483</td>\n",
       "      <td>-0.080941</td>\n",
       "      <td>-1.497946</td>\n",
       "      <td>-0.168142</td>\n",
       "      <td>-0.377045</td>\n",
       "      <td>...</td>\n",
       "      <td>0</td>\n",
       "      <td>0</td>\n",
       "      <td>0</td>\n",
       "      <td>0</td>\n",
       "      <td>1</td>\n",
       "      <td>1</td>\n",
       "      <td>0</td>\n",
       "      <td>0</td>\n",
       "      <td>1</td>\n",
       "      <td>0</td>\n",
       "    </tr>\n",
       "    <tr>\n",
       "      <th>3</th>\n",
       "      <td>-0.071568</td>\n",
       "      <td>-0.234372</td>\n",
       "      <td>0.990261</td>\n",
       "      <td>1.917563</td>\n",
       "      <td>1.345718</td>\n",
       "      <td>-1.464245</td>\n",
       "      <td>-0.448880</td>\n",
       "      <td>0.893159</td>\n",
       "      <td>-0.660072</td>\n",
       "      <td>3.089933</td>\n",
       "      <td>...</td>\n",
       "      <td>0</td>\n",
       "      <td>0</td>\n",
       "      <td>0</td>\n",
       "      <td>1</td>\n",
       "      <td>0</td>\n",
       "      <td>1</td>\n",
       "      <td>0</td>\n",
       "      <td>0</td>\n",
       "      <td>1</td>\n",
       "      <td>0</td>\n",
       "    </tr>\n",
       "    <tr>\n",
       "      <th>4</th>\n",
       "      <td>-0.507403</td>\n",
       "      <td>-0.327670</td>\n",
       "      <td>-0.672998</td>\n",
       "      <td>0.344430</td>\n",
       "      <td>-0.719048</td>\n",
       "      <td>-1.464245</td>\n",
       "      <td>-0.448880</td>\n",
       "      <td>-0.693293</td>\n",
       "      <td>-0.848273</td>\n",
       "      <td>-1.023809</td>\n",
       "      <td>...</td>\n",
       "      <td>0</td>\n",
       "      <td>0</td>\n",
       "      <td>0</td>\n",
       "      <td>1</td>\n",
       "      <td>0</td>\n",
       "      <td>1</td>\n",
       "      <td>0</td>\n",
       "      <td>0</td>\n",
       "      <td>1</td>\n",
       "      <td>0</td>\n",
       "    </tr>\n",
       "    <tr>\n",
       "      <th>5</th>\n",
       "      <td>-0.943238</td>\n",
       "      <td>-0.254094</td>\n",
       "      <td>3.613094</td>\n",
       "      <td>3.157858</td>\n",
       "      <td>5.522921</td>\n",
       "      <td>-2.228664</td>\n",
       "      <td>-0.210687</td>\n",
       "      <td>0.903948</td>\n",
       "      <td>0.636712</td>\n",
       "      <td>0.498527</td>\n",
       "      <td>...</td>\n",
       "      <td>0</td>\n",
       "      <td>0</td>\n",
       "      <td>0</td>\n",
       "      <td>1</td>\n",
       "      <td>0</td>\n",
       "      <td>1</td>\n",
       "      <td>0</td>\n",
       "      <td>0</td>\n",
       "      <td>1</td>\n",
       "      <td>0</td>\n",
       "    </tr>\n",
       "  </tbody>\n",
       "</table>\n",
       "<p>5 rows × 16391 columns</p>\n",
       "</div>"
      ],
      "text/plain": [
       "             m1lenmin  m1citywt    m1e1d1    m1e1d2    m1e1d3     m1i2a  \\\n",
       "challengeID                                                               \n",
       "1            0.364267  0.675623 -0.545055 -0.788818  0.183309  0.255698   \n",
       "2            0.364267 -0.197911  0.606432 -0.149595 -1.041256 -0.986483   \n",
       "3           -0.071568 -0.234372  0.990261  1.917563  1.345718 -1.464245   \n",
       "4           -0.507403 -0.327670 -0.672998  0.344430 -0.719048 -1.464245   \n",
       "5           -0.943238 -0.254094  3.613094  3.157858  5.522921 -2.228664   \n",
       "\n",
       "                m1i2b     m1j2a     m1j2b  cm1hhinc      ...        \\\n",
       "challengeID                                              ...         \n",
       "1           -0.245954 -1.512365  0.017524 -0.105330      ...         \n",
       "2           -0.080941 -1.497946 -0.168142 -0.377045      ...         \n",
       "3           -0.448880  0.893159 -0.660072  3.089933      ...         \n",
       "4           -0.448880 -0.693293 -0.848273 -1.023809      ...         \n",
       "5           -0.210687  0.903948  0.636712  0.498527      ...         \n",
       "\n",
       "             hv4mflag_1.0  hv4mflag_2.0  hv4mflag_3.0  hv4mompreg_0.0  \\\n",
       "challengeID                                                             \n",
       "1                       0             0             0               1   \n",
       "2                       0             0             0               0   \n",
       "3                       0             0             0               1   \n",
       "4                       0             0             0               1   \n",
       "5                       0             0             0               1   \n",
       "\n",
       "             hv4mompreg_1.0  hv4selfht_0.0  hv4selfht_1.0  hv4selfht_2.0  \\\n",
       "challengeID                                                                \n",
       "1                         0              1              0              0   \n",
       "2                         1              1              0              0   \n",
       "3                         0              1              0              0   \n",
       "4                         0              1              0              0   \n",
       "5                         0              1              0              0   \n",
       "\n",
       "             hv4selfwt_0.0  hv4selfwt_1.0  \n",
       "challengeID                                \n",
       "1                        1              0  \n",
       "2                        1              0  \n",
       "3                        1              0  \n",
       "4                        1              0  \n",
       "5                        1              0  \n",
       "\n",
       "[5 rows x 16391 columns]"
      ]
     },
     "execution_count": 10,
     "metadata": {},
     "output_type": "execute_result"
    }
   ],
   "source": [
    "X_dummies.head()"
   ]
  },
  {
   "cell_type": "code",
   "execution_count": 11,
   "metadata": {
    "collapsed": true,
    "deletable": true,
    "editable": true
   },
   "outputs": [],
   "source": [
    "X = X_dummies # rename X"
   ]
  },
  {
   "cell_type": "markdown",
   "metadata": {
    "deletable": true,
    "editable": true
   },
   "source": [
    "Now splitting the X and y matrices to separate cases in the training set and the prediction set."
   ]
  },
  {
   "cell_type": "code",
   "execution_count": 12,
   "metadata": {
    "collapsed": true,
    "deletable": true,
    "editable": true
   },
   "outputs": [],
   "source": [
    "X_training=X.loc[X.index.isin(train.index)]\n",
    "X_pred=X.loc[~X.index.isin(train.index)]"
   ]
  },
  {
   "cell_type": "code",
   "execution_count": 13,
   "metadata": {
    "collapsed": true,
    "deletable": true,
    "editable": true
   },
   "outputs": [],
   "source": [
    "y_training=y.loc[y.index.isin(train.index)]\n",
    "y_pred=y.loc[~y.index.isin(train.index)]"
   ]
  },
  {
   "cell_type": "markdown",
   "metadata": {
    "deletable": true,
    "editable": true
   },
   "source": [
    "# Modeling"
   ]
  },
  {
   "cell_type": "markdown",
   "metadata": {
    "deletable": true,
    "editable": true
   },
   "source": [
    "Randomly splitting the data into training and test sets, where 20% of data is held out for validation and testing. "
   ]
  },
  {
   "cell_type": "code",
   "execution_count": 14,
   "metadata": {
    "collapsed": true,
    "deletable": true,
    "editable": true
   },
   "outputs": [],
   "source": [
    "X_train, X_test, y_train, y_test = train_test_split(X_training, y_training.gpa, test_size=0.20, random_state=12345)"
   ]
  },
  {
   "cell_type": "markdown",
   "metadata": {
    "deletable": true,
    "editable": true
   },
   "source": [
    "## Baseline model: OLS regression"
   ]
  },
  {
   "cell_type": "code",
   "execution_count": 15,
   "metadata": {
    "collapsed": true,
    "deletable": true,
    "editable": true
   },
   "outputs": [],
   "source": [
    "baseline1 = LinearRegression(normalize = False) # Features already standardized so normalize is False\n",
    "baseline1_params = params = [{'fit_intercept': [True, False] }]\n",
    "grid = GridSearchCV(baseline1,\n",
    "                         param_grid=baseline1_params,\n",
    "                         scoring='neg_mean_squared_error', #sklearn optimizing by maximizing negative MSE\n",
    "                         n_jobs=1,\n",
    "                         verbose=2,\n",
    "                         cv=5)"
   ]
  },
  {
   "cell_type": "code",
   "execution_count": 16,
   "metadata": {
    "collapsed": false,
    "deletable": true,
    "editable": true
   },
   "outputs": [
    {
     "name": "stdout",
     "output_type": "stream",
     "text": [
      "Fitting 5 folds for each of 2 candidates, totalling 10 fits\n",
      "[CV] fit_intercept=True ..............................................\n"
     ]
    },
    {
     "name": "stderr",
     "output_type": "stream",
     "text": [
      "/usr/local/lib/python3.6/site-packages/scipy/linalg/basic.py:1018: RuntimeWarning: internal gelsd driver lwork query error, required iwork dimension not returned. This is likely the result of LAPACK bug 0038, fixed in LAPACK 3.2.2 (released July 21, 2010). Falling back to 'gelss' driver.\n",
      "  warnings.warn(mesg, RuntimeWarning)\n"
     ]
    },
    {
     "name": "stdout",
     "output_type": "stream",
     "text": [
      "[CV] ............................... fit_intercept=True, total=  30.1s\n",
      "[CV] fit_intercept=True ..............................................\n"
     ]
    },
    {
     "name": "stderr",
     "output_type": "stream",
     "text": [
      "[Parallel(n_jobs=1)]: Done   1 out of   1 | elapsed:   30.2s remaining:    0.0s\n"
     ]
    },
    {
     "name": "stdout",
     "output_type": "stream",
     "text": [
      "[CV] ............................... fit_intercept=True, total=  30.2s\n",
      "[CV] fit_intercept=True ..............................................\n",
      "[CV] ............................... fit_intercept=True, total=  30.1s\n",
      "[CV] fit_intercept=True ..............................................\n",
      "[CV] ............................... fit_intercept=True, total=  30.8s\n",
      "[CV] fit_intercept=True ..............................................\n",
      "[CV] ............................... fit_intercept=True, total=  31.3s\n",
      "[CV] fit_intercept=False .............................................\n",
      "[CV] .............................. fit_intercept=False, total=  28.9s\n",
      "[CV] fit_intercept=False .............................................\n",
      "[CV] .............................. fit_intercept=False, total=  29.8s\n",
      "[CV] fit_intercept=False .............................................\n",
      "[CV] .............................. fit_intercept=False, total=  30.8s\n",
      "[CV] fit_intercept=False .............................................\n",
      "[CV] .............................. fit_intercept=False, total=  30.4s\n",
      "[CV] fit_intercept=False .............................................\n",
      "[CV] .............................. fit_intercept=False, total=  30.8s\n"
     ]
    },
    {
     "name": "stderr",
     "output_type": "stream",
     "text": [
      "[Parallel(n_jobs=1)]: Done  10 out of  10 | elapsed:  5.1min finished\n"
     ]
    },
    {
     "name": "stdout",
     "output_type": "stream",
     "text": [
      "The parameters of the best model are: \n",
      "{'fit_intercept': True}\n",
      "CPU times: user 7min 1s, sys: 9.3 s, total: 7min 11s\n",
      "Wall time: 6min 2s\n"
     ]
    }
   ],
   "source": [
    "%%time\n",
    "grid.fit(np.array(X_train), np.array(y_train))\n",
    "\n",
    "print('The parameters of the best model are: ')\n",
    "print(grid.best_params_)"
   ]
  },
  {
   "cell_type": "markdown",
   "metadata": {},
   "source": [
    "In-sample MSE:"
   ]
  },
  {
   "cell_type": "code",
   "execution_count": 18,
   "metadata": {
    "collapsed": false
   },
   "outputs": [
    {
     "data": {
      "text/plain": [
       "0.30053974716511073"
      ]
     },
     "execution_count": 18,
     "metadata": {},
     "output_type": "execute_result"
    }
   ],
   "source": [
    "abs(grid.best_score_)"
   ]
  },
  {
   "cell_type": "markdown",
   "metadata": {
    "deletable": true,
    "editable": true
   },
   "source": [
    "Test set MSE of best model identified by grid search on the validation set:"
   ]
  },
  {
   "cell_type": "code",
   "execution_count": 19,
   "metadata": {
    "collapsed": false,
    "deletable": true,
    "editable": true
   },
   "outputs": [
    {
     "data": {
      "text/plain": [
       "0.37037734985025444"
      ]
     },
     "execution_count": 19,
     "metadata": {},
     "output_type": "execute_result"
    }
   ],
   "source": [
    "mean_squared_error(y_test, grid.predict(np.array(X_test)))"
   ]
  },
  {
   "cell_type": "markdown",
   "metadata": {
    "deletable": true,
    "editable": true
   },
   "source": [
    "Now making predictions for all observations. These will then be sent to be scored on the hold-out data."
   ]
  },
  {
   "cell_type": "code",
   "execution_count": 19,
   "metadata": {
    "collapsed": true,
    "deletable": true,
    "editable": true
   },
   "outputs": [],
   "source": [
    "preds = grid.predict(np.array(X))\n",
    "predictions['gpa'] = preds\n",
    "predictions.to_csv('regression_baseline_predictions.csv')"
   ]
  },
  {
   "cell_type": "markdown",
   "metadata": {
    "deletable": true,
    "editable": true
   },
   "source": [
    "This model was not submitted to the FFC competition but it was scored on the leaderboard and final held-out data so that the results could be used in the final paper. The MSE scores on these datasets are as follows:\n",
    "\n",
    "***Leaderboard:*** 0.467964593\n",
    "\n",
    "***Held-out:*** 0.445437226\n",
    "\n",
    "Overall we see that performance has deteriotated out-of-sample, suggesting that the original model over-fit the training data."
   ]
  }
 ],
 "metadata": {
  "kernelspec": {
   "display_name": "IPython (Python 3)",
   "language": "python",
   "name": "python3"
  },
  "language_info": {
   "codemirror_mode": {
    "name": "ipython",
    "version": 3
   },
   "file_extension": ".py",
   "mimetype": "text/x-python",
   "name": "python",
   "nbconvert_exporter": "python",
   "pygments_lexer": "ipython3",
   "version": "3.6.3"
  }
 },
 "nbformat": 4,
 "nbformat_minor": 2
}
